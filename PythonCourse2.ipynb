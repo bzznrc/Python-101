{
  "nbformat": 4,
  "nbformat_minor": 0,
  "metadata": {
    "colab": {
      "name": "Untitled0.ipynb",
      "provenance": [],
      "authorship_tag": "ABX9TyMvjE8lTYLZktIcNwj2x0LS"
    },
    "kernelspec": {
      "name": "python3",
      "display_name": "Python 3"
    }
  },
  "cells": [
    {
      "cell_type": "markdown",
      "metadata": {
        "id": "RPbLbpFnwYCj",
        "colab_type": "text"
      },
      "source": [
        "# 0 - Recap Rapidino\n",
        "Un valore ottenuto tramite la funzione input() é considerato di default come testo.\n",
        "\n",
        "Nell'esempio sotto, immaginando che l'input sia 20, se non scrivessi int(c), la somma sarebbe 5+10+'20'. Avrei quindi un errore perché starei sommando numeri e parole.\n",
        "\n",
        "Per far funzionare sta cosa, devo usare un **cast**, ovvero specificare a Python che una variabile va interpretata come un tipo di dato in particolare.\n",
        "\n",
        "Speravo di evitare sta minchiatina ma tant'é."
      ]
    },
    {
      "cell_type": "code",
      "metadata": {
        "id": "yt77wOvCv7KZ",
        "colab_type": "code",
        "colab": {
          "base_uri": "https://localhost:8080/",
          "height": 72
        },
        "outputId": "21fa2bda-a4a2-4c1e-be63-1de1c3330546"
      },
      "source": [
        "a = 5\n",
        "b = 10\n",
        "\n",
        "print(\"Somma: \", a+b)\n",
        "\n",
        "c = input(\"dammi un altro numero:\")\n",
        "\n",
        "print (\"Somma nuova: \", a+b+int(c))"
      ],
      "execution_count": 2,
      "outputs": [
        {
          "output_type": "stream",
          "text": [
            "Somma:  15\n",
            "dammi un altro numero:5\n",
            "Somma nuova:  20\n"
          ],
          "name": "stdout"
        }
      ]
    },
    {
      "cell_type": "markdown",
      "metadata": {
        "id": "wQ0BjX_tyJNr",
        "colab_type": "text"
      },
      "source": [
        "# 1 - Condizioni\n",
        "eh. aaahhh. eeeeeeeehhhhhh."
      ]
    },
    {
      "cell_type": "code",
      "metadata": {
        "id": "zmTCbQnqyXBz",
        "colab_type": "code",
        "colab": {}
      },
      "source": [
        "print(\"Ehi, ciao, sai, non so come dire, ti ho notata per la lucentezza del riflesso della luna nei tuoi occhi. Quanti anni hai?\")\n",
        "anni = input(\"Ciao, ho esattamente i seguenti anni: \")\n",
        "\n",
        "if (anni < 18):\n",
        "  print(\"ALERT! CODE RED! WOWOWOWOWOWOWOWUUUUUUUUUHHHHH hehehehehe ho da fare ciao!\")\n",
        "else:\n",
        "  print(\"Risposta esatta. Eccoti un Gingerito\")"
      ],
      "execution_count": null,
      "outputs": []
    },
    {
      "cell_type": "code",
      "metadata": {
        "id": "ZdPojpXmzqDf",
        "colab_type": "code",
        "colab": {}
      },
      "source": [
        "print(\"Ehi, ciao, sai, non so come dire, ti ho notata per la lucentezza del riflesso della luna nei tuoi occhi. Come ti chiami?\")\n",
        "nome = input(\"Ciao, mi chiamo: \")\n",
        "\n",
        "if (nome == \"Giorgio\"):\n",
        "  print(\"ALERT! CODE RED! WOWOWOWOWOWOWOWUUUUUUUUUHHHHH hehehehehe ho da fare ciao!\")\n",
        "#Questo é un pó complesso ma significa \"se la variabile nome fininsce con la lettera \"o\"\" \n",
        "#E sto coso verde invece é un commento. Cioé roba che posso scrivere nel codice ma viene ignorata da Python\n",
        "elif (nome[-1] == 'o'):\n",
        "  print(\"Eeehhhh si é fatta na certa, ci si vede alla prossima!\")\n",
        "else:\n",
        "  print(\"Risposta esatta. Eccoti un Gingerito\")"
      ],
      "execution_count": null,
      "outputs": []
    }
  ]
}