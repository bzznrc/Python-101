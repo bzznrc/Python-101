{
 "cells": [
  {
   "cell_type": "markdown",
   "id": "7e02b62d",
   "metadata": {},
   "source": [
    "# Loops ➰\n",
    "*A Loop is a construct used to repeat parts of code until a condition becomes false.*\n",
    "\n",
    "**Example:**\n",
    "\n",
    "**Until** I get what this means, I'll keep reading this sentence.\n",
    "\n",
    "Now, a crucial point about loops (written via *while* statements) is that in order for the program to be able to get *out of a loop*, the variables used in the condition need to be changed within the loop. If this doesn't happen, the condition result will always be the same and the loop won't ever end.\n",
    "\n",
    "🤯\n",
    "\n",
    "Let's see an example:"
   ]
  },
  {
   "cell_type": "code",
   "execution_count": null,
   "id": "73ddea3c",
   "metadata": {},
   "outputs": [],
   "source": [
    "# Let's say I'm building an annoying machine that gives out the change with 10c coins only\n",
    "cost = float(input(\"How much does this cost? \"))\n",
    "paid = float(input(\"How much did you pay? \"))\n",
    "\n",
    "# Calculating the change we owe\n",
    "change = paid - cost\n",
    "\n",
    "# This loop will keep executing as long as the change is > 0\n",
    "while change > 0:\n",
    "    print(\"Here's your 10c\")\n",
    "    # It is crucial that the change value is updated within the loop.\n",
    "    # So at every new loop, the change value will decrease\n",
    "    change = round(change - 0.10, 2)  # The round() is to handle floating-point arithmetic\n",
    "    # We're also printing out the value at each step to better visualize what's going on\n",
    "    print(\"Remaining change:\", change)\n",
    "\n",
    "print(\"Got out of the loop!\")"
   ]
  },
  {
   "cell_type": "markdown",
   "id": "88ae8f54",
   "metadata": {},
   "source": [
    "Like we saw with the `if`, the `while` loop also gets executed if a logical test equals `True`.\n",
    "Actually, one might say that a `while` is just an `if` that keeps repeating until the condition stops being `True`.\n",
    "\n",
    "All the logical operators we saw for `if` still apply to `while`, as well as the point about the code needing to be properly indented. The code that will get repeated by the `while` is only the indented one.\n",
    "\n",
    "# A Few Examples 👨‍💻\n",
    "\n",
    "## Known Number of Loops ❗\n",
    "One common kind of loop is the one in which you have to execute the code a predetermined number of times. In the example below, the user will give me a number, and we'll list all the numbers leading up to that one.\n",
    "\n",
    "Notice the \"`<=`\" used in the `while` condition (as opposed to a \"`<`\"). This way we'll also print the very last number.\n",
    "\n",
    "Yes, you could put a very big number there. No, you don't really want to see what happens."
   ]
  },
  {
   "cell_type": "code",
   "execution_count": null,
   "id": "9ca5757a",
   "metadata": {},
   "outputs": [],
   "source": [
    "# This is the number we want to get to\n",
    "num_max = int(input(\"What's the max number? \"))\n",
    "# This is the number we're starting from. It's now 1 but will increase at every loop\n",
    "# This is also called a \"counter\" variable, because—you guessed it—it counts\n",
    "num = 1\n",
    "\n",
    "# We keep going until our counter reaches our max\n",
    "while num <= num_max:\n",
    "    print(num)  # Print the current counter value\n",
    "    num = num + 1  # Increase the counter by 1\n",
    "\n",
    "# If we're here (which is out of the loop), it means our counter got to the max\n",
    "print(\"I got to\", num_max, \"!\")"
   ]
  },
  {
   "cell_type": "markdown",
   "id": "dbf547be",
   "metadata": {},
   "source": [
    "## Unknown Number of Loops ❓\n",
    "Another kind of loop is one in which we keep asking the user for an input, and every time we check it against a value that we have already. Note that this time around we don't have a counter, and we're not able to predict how long the loop will run beforehand. It really depends on how good the biscuit tastes of the user are.\n",
    "\n",
    "This is also roughly what happens under the hood when you input a password somewhere (there's also a bit of cryptography going on).\n",
    "\n",
    "We now ask once for the input outside the loop in order to start it, but then it's crucial that we keep asking it inside the loop as well, for the user to have a chance to tell us that Cuor di Mela are actually the best biscuits."
   ]
  },
  {
   "cell_type": "code",
   "execution_count": null,
   "id": "9dce71a1",
   "metadata": {},
   "outputs": [],
   "source": [
    "answer = input(\"What's the best biscuit? \")\n",
    "\n",
    "while answer != \"Cuor di Mela\":\n",
    "    answer = input(\"Not sure I heard that correctly? \")\n",
    "\n",
    "print(\"<3\")"
   ]
  },
  {
   "cell_type": "markdown",
   "id": "38088b3d",
   "metadata": {},
   "source": [
    "This one is kind of a fancier way to write it. Basically, we don't start with a question outside of the loop but we ask the question within the loop condition. When it executes, the `input()` goes through, stopping the execution for the user to input the value, then that value gets compared to the `\"Gocciole\"` string on the fly.\n",
    "\n",
    "In this case, we don't really need to do anything *inside* the loop, so we have a special `pass` command that basically does nothing. If we're outside of the loop, it means that the check returned `True` at some point, then we can cheer.\n",
    "\n",
    "This is kinda advanced and I won't lie, I added this mainly for flexing."
   ]
  },
  {
   "cell_type": "code",
   "execution_count": null,
   "id": "5d702639",
   "metadata": {},
   "outputs": [],
   "source": [
    "while input(\"What's the best biscuit? \") != \"Gocciole\":\n",
    "    pass\n",
    "\n",
    "print(\"<3\")"
   ]
  },
  {
   "cell_type": "markdown",
   "id": "ba0e741d",
   "metadata": {},
   "source": [
    "# Exercise 1 - Ultimate Question ✨\n",
    "Keep asking the user for the Answer to the Ultimate Question of Life, the Universe, and Everything.\n",
    "\n",
    "When they hit `42`, cheer them."
   ]
  },
  {
   "cell_type": "code",
   "execution_count": null,
   "id": "1334eed2",
   "metadata": {},
   "outputs": [],
   "source": [
    "# Exercise 1\n",
    "answer = \"\"\n",
    "while answer != \"42\":\n",
    "    answer = input(\"What is the Answer to the Ultimate Question of Life, the Universe, and Everything? \")\n",
    "\n",
    "print(\"Congratulations! You've found the answer!\")"
   ]
  },
  {
   "cell_type": "markdown",
   "id": "66ff81b1",
   "metadata": {},
   "source": [
    "# Exercise 2 - Randos 🔢\n",
    "Ask the user how many random numbers they want. Also ask them the min and max these numbers need to be within.\n",
    "\n",
    "Give them the numbers."
   ]
  },
  {
   "cell_type": "code",
   "execution_count": null,
   "id": "58bfaadf",
   "metadata": {},
   "outputs": [],
   "source": [
    "# Exercise 2\n",
    "import random\n",
    "\n",
    "count = int(input(\"How many random numbers do you want? \"))\n",
    "n_min = int(input(\"Minimum value: \"))\n",
    "n_max = int(input(\"Maximum value: \"))\n",
    "\n",
    "print(\"Here are your random numbers:\")\n",
    "\n",
    "i = 0\n",
    "while i < count:\n",
    "    rand_num = random.randint(n_min, n_max)\n",
    "    print(rand_num)\n",
    "    i += 1"
   ]
  },
  {
   "cell_type": "markdown",
   "id": "d32b3141",
   "metadata": {},
   "source": [
    "# Da Bomb 💣\n",
    "Coding is not only about writing code, it's also about figuring out what's written in someone else's.\n",
    "\n",
    "Let's try to figure out what goes on in this code:\n",
    "- Check the variables defined at the beginning\n",
    "  - What's that `win = False` one, you ask? That's a boolean variable (can be either `True` or `False`) and it's initialized as `False`.\n",
    "- Focus on the logic blocks, defined by the indentations\n",
    "  - We have a large `while` loop that includes an `if`/`else` block\n",
    "  - Then there's another `if`/`else` block outside of the loop\n",
    "- It's safe to say that the code within the loop might be executed multiple times, and the one outside will be executed just once"
   ]
  },
  {
   "cell_type": "code",
   "execution_count": null,
   "id": "d3f2fd2f",
   "metadata": {},
   "outputs": [],
   "source": [
    "import random\n",
    "\n",
    "n_min = 1\n",
    "n_max = 9\n",
    "count = 5\n",
    "win = False\n",
    "\n",
    "# Setting the secret code once\n",
    "secret_code = random.randint(n_min, n_max)\n",
    "\n",
    "print(\"This is Da Bomb\")\n",
    "print(f\"You have {count} tries. The code is between {n_min} and {n_max}\")\n",
    "\n",
    "# This keeps going until count is > 0 and win == False\n",
    "while count > 0 and not win:\n",
    "\n",
    "    # Updating the count variable\n",
    "    count -= 1\n",
    "\n",
    "    # Getting a guess from the user\n",
    "    guess = int(input(\"Guess the secret code: \"))\n",
    "    \n",
    "    # Checking the guess against the code\n",
    "    if guess == secret_code:\n",
    "        win = True\n",
    "    else:\n",
    "        print(f\"Nope! You have {count} tries left 🙈\")\n",
    "\n",
    "# Communicating the result\n",
    "if not win:\n",
    "    print(\"💥💥💥\")\n",
    "    print(f\"The code was {secret_code} btw\")\n",
    "else:\n",
    "    print(\"Phew! You've done it! 🕵️‍♂️\")"
   ]
  },
  {
   "cell_type": "markdown",
   "id": "6d10305f",
   "metadata": {},
   "source": [
    "# Number Guessing Game 🔮\n",
    "Write a program where the computer randomly selects a number and the user has to guess it. The program should tell the user if their guess is too high or too low, and continue until the correct number is guessed. (Thanks ChatGPT)"
   ]
  },
  {
   "cell_type": "code",
   "execution_count": null,
   "id": "476d4706",
   "metadata": {},
   "outputs": [],
   "source": [
    "# Number Guessing Game\n",
    "import random\n",
    "\n",
    "secret_number = random.randint(1, 100)\n",
    "guess = None\n",
    "\n",
    "print(\"I'm thinking of a number between 1 and 100. Can you guess it?\")\n",
    "\n",
    "while guess != secret_number:\n",
    "    guess = int(input(\"Enter your guess: \"))\n",
    "    if guess < secret_number:\n",
    "        print(\"Too low!\")\n",
    "    elif guess > secret_number:\n",
    "        print(\"Too high!\")\n",
    "    else:\n",
    "        print(\"Congratulations! You guessed it!\")"
   ]
  },
  {
   "cell_type": "markdown",
   "id": "49bce3e5",
   "metadata": {},
   "source": [
    "# Time! ⏳\n",
    "\n",
    "Let me show you `datetime.now()`.\n",
    "It's quite useful to do all things time-related (you don't say?). What it does is it basically returns an *object* (we'll see what it is in a couple notebooks). This object contains lots of time-related values (current year, month, day, hour, minutes, and seconds)."
   ]
  },
  {
   "cell_type": "code",
   "execution_count": null,
   "id": "c2467c1f",
   "metadata": {},
   "outputs": [],
   "source": [
    "import datetime\n",
    "now = datetime.datetime.now()  # now is an \"object\". The function now() doesn't need inputs\n",
    "# We use it as below to obtain the variables that describe the time:\n",
    "year = now.year\n",
    "month = now.month\n",
    "day = now.day\n",
    "hour = now.hour\n",
    "minute = now.minute\n",
    "second = now.second\n",
    "\n",
    "print(\"Today is:\", year, \"/\", month, \"/\", day)\n",
    "print(\"The time is:\", hour, \":\", minute, \":\", second)"
   ]
  },
  {
   "cell_type": "markdown",
   "id": "0af4ba48",
   "metadata": {},
   "source": [
    "And what about `time.sleep()`, which allows us to stop the execution for a given amount of seconds."
   ]
  },
  {
   "cell_type": "code",
   "execution_count": null,
   "id": "b39f37c6",
   "metadata": {},
   "outputs": [],
   "source": [
    "import time\n",
    "\n",
    "print(\"Yawn. Think I'll nap 5 seconds!\")\n",
    "time.sleep(5)  # time.sleep() only wants some seconds of us. Oh if everyone was like time.sleep().\n",
    "print(\"Hey! Now I feel better!\")"
   ]
  },
  {
   "cell_type": "markdown",
   "id": "b8fd2334",
   "metadata": {},
   "source": [
    "# Exercise 3 - Alarm ⏰\n",
    "By combining `datetime.now()` and `time.sleep()` we should be able to build an alarm:\n",
    "\n",
    "- Let's ask the user for the hour and minute they want the alarm to go off\n",
    "- If the current hour and minute are matching the alarm ones, let's kick it off!\n",
    "- You'll probably want to call a new `datetime.datetime.now()` at every loop, otherwise you'll always keep checking the initial time"
   ]
  },
  {
   "cell_type": "code",
   "execution_count": null,
   "id": "c9f7998f",
   "metadata": {},
   "outputs": [],
   "source": [
    "# Exercise 3\n",
    "import datetime\n",
    "import time\n",
    "\n",
    "alarm_hour = int(input(\"Set the alarm hour (0-23): \"))\n",
    "alarm_minute = int(input(\"Set the alarm minute (0-59): \"))\n",
    "\n",
    "print(\"Alarm is set!\")\n",
    "\n",
    "while True:\n",
    "    now = datetime.datetime.now()\n",
    "    if now.hour == alarm_hour and now.minute == alarm_minute:\n",
    "        print(\"Wake up! ⏰\")\n",
    "        break\n",
    "    time.sleep(10)  # Wait 10 seconds before checking again"
   ]
  },
  {
   "cell_type": "markdown",
   "id": "168eefa3",
   "metadata": {},
   "source": [
    "# Pyramid of Asterisks 🎄\n",
    "This is quite a common programming exercise. You can play with it and feel like a pharaoh."
   ]
  },
  {
   "cell_type": "code",
   "execution_count": null,
   "id": "a9f49411",
   "metadata": {},
   "outputs": [],
   "source": [
    "num = int(input(\"Enter the number of rows: \"))\n",
    "print()  # Print a newline\n",
    "\n",
    "i = 0\n",
    "while i < num:\n",
    "    print(\"* \" * (i + 1))\n",
    "    i += 1  # This increments the counter"
   ]
  },
  {
   "cell_type": "markdown",
   "id": "214afccc",
   "metadata": {},
   "source": [
    "# Modulo Operator ➗\n",
    "\n",
    "The modulo operator `%` returns the remainder of a division.\n",
    "For example, `5 % 3` equals `2` because `5 / 3` equals `1` with a remainder of `2`.\n",
    "\n",
    "But why am I learning this? What kind of use will it ever have?\n",
    "\n",
    "Well, it turns out it's pretty convenient to use modulo with `2`, because it will always return `1` if the number is odd and `0` if it's even."
   ]
  },
  {
   "cell_type": "code",
   "execution_count": null,
   "id": "c3253aeb",
   "metadata": {},
   "outputs": [],
   "source": [
    "# Let's run through some examples\n",
    "print(\"4 % 2 =\", 4 % 2)\n",
    "print(\"6 % 2 =\", 6 % 2)\n",
    "print(\"8 % 2 =\", 8 % 2)\n",
    "print(\"5 % 2 =\", 5 % 2)\n",
    "print(\"7 % 2 =\", 7 % 2)\n",
    "print(\"9 % 2 =\", 9 % 2)"
   ]
  },
  {
   "cell_type": "markdown",
   "id": "dc21e489",
   "metadata": {},
   "source": [
    "# Exercise 4 - Pyramid of Asterisks + 🎄🎄\n",
    "Like the previous but write normal asterisks on the even rows and another symbol on the odd ones.\n",
    "\n",
    "Yep, you'll need the modulo operator for this."
   ]
  },
  {
   "cell_type": "code",
   "execution_count": null,
   "id": "e93e0fa9",
   "metadata": {},
   "outputs": [],
   "source": [
    "# Exercise 4\n",
    "num = int(input(\"Enter the number of rows: \"))\n",
    "symbol1 = \"*\"\n",
    "symbol2 = \"#\"\n",
    "\n",
    "i = 0\n",
    "while i < num:\n",
    "    if i % 2 == 0:\n",
    "        print(symbol1 + \" \" * (i + 1))\n",
    "    else:\n",
    "        print(symbol2 + \" \" * (i + 1))\n",
    "    i += 1"
   ]
  },
  {
   "cell_type": "markdown",
   "id": "eb99e72d",
   "metadata": {},
   "source": [
    "# Exercise 5 - Diamond Shape 🎄🎄🎄\n",
    "Like the main pyramid but instead of stopping at the base, keep going and write the flipped version. The result will be diamond-shaped."
   ]
  },
  {
   "cell_type": "code",
   "execution_count": null,
   "id": "d29e2ba6",
   "metadata": {},
   "outputs": [],
   "source": [
    "# Exercise 5\n",
    "num = int(input(\"Enter the number of rows for half of the diamond: \"))\n",
    "\n",
    "# Upper half\n",
    "i = 1\n",
    "while i <= num:\n",
    "    print(\" \" * (num - i) + \"* \" * i)\n",
    "    i += 1\n",
    "\n",
    "# Lower half\n",
    "i = num - 1\n",
    "while i >= 1:\n",
    "    print(\" \" * (num - i) + \"* \" * i)\n",
    "    i -= 1"
   ]
  },
  {
   "cell_type": "markdown",
   "id": "b2c1496d",
   "metadata": {},
   "source": [
    "# Exercise 6 - Collatz Conjecture 🤓\n",
    "**NERD Alert**\n",
    "\n",
    "So [here's](https://www.quantamagazine.org/why-mathematicians-still-cant-solve-the-collatz-conjecture-20200922/) a very nerdy maths article explaining how the Collatz Conjecture works.\n",
    "\n",
    "Write a program that implements it and verify that it is indeed true no matter what number you start with.\n",
    "\n",
    "*Hint: limit the main loop to a fixed number of iterations, like 100*"
   ]
  },
  {
   "cell_type": "code",
   "execution_count": null,
   "id": "5de14fe0",
   "metadata": {},
   "outputs": [],
   "source": [
    "# Exercise 6\n",
    "num = int(input(\"Enter a positive integer: \"))\n",
    "iterations = 0\n",
    "max_iterations = 100\n",
    "\n",
    "while num != 1 and iterations < max_iterations:\n",
    "    print(num)\n",
    "    if num % 2 == 0:\n",
    "        num = num // 2\n",
    "    else:\n",
    "        num = num * 3 + 1\n",
    "    iterations += 1\n",
    "\n",
    "if num == 1:\n",
    "    print(num)\n",
    "    print(\"Reached 1 after\", iterations, \"iterations.\")\n",
    "else:\n",
    "    print(\"Did not reach 1 after\", max_iterations, \"iterations.\")"
   ]
  }
 ],
 "metadata": {
  "jupytext": {
   "cell_metadata_filter": "-all",
   "main_language": "python",
   "notebook_metadata_filter": "-all"
  }
 },
 "nbformat": 4,
 "nbformat_minor": 5
}
