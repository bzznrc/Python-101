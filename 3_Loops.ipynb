{
  "nbformat": 4,
  "nbformat_minor": 0,
  "metadata": {
    "colab": {
      "name": "Python_3_Loops.ipynb",
      "provenance": [],
      "authorship_tag": "ABX9TyNh1NCm2CUf/wtu5FaPcUdw",
      "include_colab_link": true
    },
    "kernelspec": {
      "name": "python3",
      "display_name": "Python 3"
    }
  },
  "cells": [
    {
      "cell_type": "markdown",
      "metadata": {
        "id": "view-in-github",
        "colab_type": "text"
      },
      "source": [
        "<a href=\"https://colab.research.google.com/github/bzznrc/Python-101/blob/master/3_Cicli.ipynb\" target=\"_parent\"><img src=\"https://colab.research.google.com/assets/colab-badge.svg\" alt=\"Open In Colab\"/></a>"
      ]
    },
    {
      "cell_type": "markdown",
      "metadata": {
        "id": "kzfcasc_zyql"
      },
      "source": [
        "# Recappino\n",
        "Ripassiamo le condizioni con Giorgia!"
      ]
    },
    {
      "cell_type": "code",
      "metadata": {
        "id": "4MoI7NySzuNm"
      },
      "source": [
        "GiorgiaScore = 0\n",
        "\n",
        "S1 = input(\"Io sono Giorgia!\\nSono una... \")\n",
        "if S1 == \"donna\":\n",
        "  GiorgiaScore = GiorgiaScore + 1\n",
        "\n",
        "S2 = input(\"Sono una... \")\n",
        "if S2 == \"madre\":\n",
        "  GiorgiaScore = GiorgiaScore + 1\n",
        "\n",
        "S3 = input(\"Sono... \")\n",
        "if S3 == \"cristiana\":\n",
        "  GiorgiaScore = GiorgiaScore + 1\n",
        "\n",
        "if (GiorgiaScore == 3):\n",
        "  print(\"OH SI <3\")\n",
        "elif (GiorgiaScore <= 2 and GiorgiaScore != 0):\n",
        "  print(\"Ma... Ma... </3\")\n",
        "else:\n",
        "  print(\"PERZONA FALZA!\")"
      ],
      "execution_count": null,
      "outputs": []
    },
    {
      "cell_type": "markdown",
      "metadata": {
        "id": "hKdsQOnRdj1k"
      },
      "source": [
        "# Cicli\n",
        "*“Il Ciclo é un costrutto usato per ripetere parti di codice sino a che una condizione non si avvera”*\n",
        "*Enrico Bazzani, 2020*\n",
        "\n",
        "Esempietto:\n",
        "\n",
        "*Finché* non ho restituito tutto il resto, restituisco altri dieci centesimi e rimuovo 10 centesimi dal totale da restituire\n",
        "\n"
      ]
    },
    {
      "cell_type": "code",
      "metadata": {
        "id": "3ufDngaCBuO3"
      },
      "source": [
        "#Questo é l'algoritmo piú agghiacciante mai visto per restituire il resto\n",
        "resto = 0.50\n",
        "while resto > 0:\n",
        "  print(\"Ecco altri 10c\")\n",
        "  resto = resto - 0.10\n",
        "print(\"Finito!\")"
      ],
      "execution_count": null,
      "outputs": []
    },
    {
      "cell_type": "markdown",
      "metadata": {
        "id": "aMBb7lk5CNh9"
      },
      "source": [
        "#Operatori & Formattazione\n",
        "Analogamente all'If, anche il While viene eseguito se il test logico risulta True. Gli operatori sono gli stessi visti per l'If.\n",
        "\n",
        "Allo stesso modo, il codice dentro il While deve essere isolato dal resto del programma tramite un'indentatura."
      ]
    },
    {
      "cell_type": "markdown",
      "metadata": {
        "id": "hpgyUkDoBBEd"
      },
      "source": [
        "# Esempi\n",
        "\n",
        "Proviamo a contare tutti i numeri da uno ad un numero a scelta\n",
        "\n",
        "In questo genere di loop (comune con i numeri) abbiamo una variabile (num) che parte dal minimo, e attraverso incrementi unitari arriva al massimo (num_max), al che usciamo dal ciclo."
      ]
    },
    {
      "cell_type": "code",
      "metadata": {
        "id": "RhKXvMazfzyr"
      },
      "source": [
        "num = 1\n",
        "num_max = int (input(\"Dimmi il numero max:\"))\n",
        "\n",
        "while num <= num_max:\n",
        "  print(num)\n",
        "  num = num + 1\n",
        "\n",
        "print(\"Sono arrivato a \", num_max)"
      ],
      "execution_count": null,
      "outputs": []
    },
    {
      "cell_type": "markdown",
      "metadata": {
        "id": "4heaJdJO6ODs"
      },
      "source": [
        "In questa variante, continuiamo a richiedere un input finché questo non sará uguale ad una costante. Questo é piú o meno quello che succede nei form online quando dobbiamo rispettare certe regole di formattazione.\n",
        "\n",
        "Notare che, a differenza del caso precedente, non abbiamo nessuna variabile \"contatore\" e nessun incremento. Non dobbiamo fare un numero predeterminato di cicli, dobbiamo continuare finché l'input non soddisfa i requisiti."
      ]
    },
    {
      "cell_type": "code",
      "metadata": {
        "id": "u1Eixuefytph"
      },
      "source": [
        "nome = input(\"Chi é l'insegnante piú figo? \")\n",
        "\n",
        "while nome != \"Bazza\":\n",
        "  nome = input(\"Mh. Riproviamo: \")\n",
        "\n",
        "print(\"BRAVIH <3\")"
      ],
      "execution_count": null,
      "outputs": []
    },
    {
      "cell_type": "markdown",
      "metadata": {
        "id": "fXZ3FvQOVbqk"
      },
      "source": [
        "# ES. 1\n",
        "Chiedi all'utente la isposta alla domanda fondamentale sulla vita, l'universo e tutto quanto finché questa non risulta essere \"42\". Solo a questo punto, congratulati.\n",
        "\n"
      ]
    },
    {
      "cell_type": "code",
      "metadata": {
        "id": "vxa4UtLBV-az"
      },
      "source": [
        ""
      ],
      "execution_count": null,
      "outputs": []
    },
    {
      "cell_type": "markdown",
      "metadata": {
        "id": "xRcFDHypVwOJ"
      },
      "source": [
        "# ES. 2\n",
        "Diamo i numeri.\n",
        "\n",
        "Chiedi all'utente quanti numeri random vuole, il massimo ed il minimo. Dagli tutti quei numeri."
      ]
    },
    {
      "cell_type": "code",
      "metadata": {
        "id": "6oGkCVjnV-vh"
      },
      "source": [
        ""
      ],
      "execution_count": null,
      "outputs": []
    },
    {
      "cell_type": "markdown",
      "metadata": {
        "id": "imxgewS7U4V8"
      },
      "source": [
        "# Disinnesca la bomba\n",
        "- Cerchiamo di capire la struttura del programma\n",
        "- Per farlo, concentriamoci sui blocchi logici, dati dalle indentature\n",
        "- Dichiarazione iniziale di variabili, con count che scandisce i cicli e win che viene portata a True solo in caso di vittoria\n",
        "- Blocco del while, che contiene un if, con una sua logica ed un else con una stampa, piú l'aggiornamento del contatore (count)\n",
        "- Singolo blocco if/else dopo il while per stampare il messaggio finale"
      ]
    },
    {
      "cell_type": "code",
      "metadata": {
        "id": "9M50_9UR1Ma6"
      },
      "source": [
        "import random\n",
        "\n",
        "n_min = 1\n",
        "n_max = 9\n",
        "count = 5\n",
        "win = False\n",
        "\n",
        "print(\"BWAHAHAHA Timer Bomba\")\n",
        "\n",
        "while (count > 0 and win == False):\n",
        "\n",
        "  #Aggiornamento della variable contatore (andrá da 5 a 0)\n",
        "  count = count - 1\n",
        "\n",
        "  guess = int (input(\"Indovina il numero per disinnescare la bomba:\\n \"))\n",
        "  rand = random.randint(n_min, n_max)\n",
        "  \n",
        "  if (guess == rand):\n",
        "    win = True\n",
        "  else:\n",
        "    print(\"Nope! rand: \", rand, \"guess: \", guess, \" Count:\", count)\n",
        "\n",
        "#Qui siamo fuori dal blocco del while. Questo if/else viene eseguito alla fine del ciclo\n",
        "if (win == False):\n",
        "  print(\"BAM - you lose\")\n",
        "else:\n",
        "  print(\"Bomba disinnescata. PHEEEWWW!\")"
      ],
      "execution_count": null,
      "outputs": []
    },
    {
      "cell_type": "markdown",
      "metadata": {
        "id": "I8sCAOWbIh-X"
      },
      "source": [
        "# Time!\n",
        "\n",
        "Cioé la funzione datetime.now().\n",
        "Molto utile, restituisce un \"oggetto\" (non abbiamo ancora visto di cosa si tratta), da cui posso ottenere un sacco di valori interessanti: anno, mese, giorno, ora, minuti e secondi nel momento in cui viene chiamata.\n",
        "\n",
        "Vediamo anche la funzione time.sleep(), che permette di mettere in pausa l'esecuzione del programma per il numero indicato di secondi."
      ]
    },
    {
      "cell_type": "code",
      "metadata": {
        "id": "YSdxCyF0I_d0"
      },
      "source": [
        "import datetime\n",
        "now = datetime.datetime.now() #now é un \"oggetto\". La funzione now() non ha bisogno di input\n",
        "#lo usiamo come sotto per ottenere le variabili che descrivono il tempo:\n",
        "year = now.year\n",
        "month = now.month\n",
        "day = now.day\n",
        "hour = now.hour\n",
        "minute = now.minute\n",
        "second = now.second\n",
        "\n",
        "print(\"Oggi é il giorno: \", year, \"/\", month, \"/\", day)\n",
        "print(\"Sono le ore: \", hour, \":\", minute, \":\", second)"
      ],
      "execution_count": null,
      "outputs": []
    },
    {
      "cell_type": "code",
      "metadata": {
        "id": "q9cWjeuiKN-E"
      },
      "source": [
        "import time\n",
        "\n",
        "print(\"Yawn. Ora dormo 5 secondi!\")\n",
        "time.sleep(5) #L'unico input della funzione sleep() sono i secondi\n",
        "print(\"Ciao! Mi sono svegliato!\")"
      ],
      "execution_count": null,
      "outputs": []
    },
    {
      "cell_type": "markdown",
      "metadata": {
        "id": "a4MydCwtKp3K"
      },
      "source": [
        "# ES. 3 - Sveglia\n",
        "Combinando datetime.now() e time.sleep() dovremmo essere capaci di programmare una sveglia:\n",
        "\n",
        "-Chiediamo ora e minuti in cui l'utente vuole fissare la sveglia\n",
        "\n",
        "-Se l'ora e i minuti correnti sono uguali a quelli richiesti, facciamo suonare la sveglia, altrimenti aspettiamo e ricontrolliamo tra un po'"
      ]
    },
    {
      "cell_type": "code",
      "metadata": {
        "id": "tsrsqg4BKpY_"
      },
      "source": [
        ""
      ],
      "execution_count": null,
      "outputs": []
    },
    {
      "cell_type": "markdown",
      "metadata": {
        "id": "7LONOrSL857q"
      },
      "source": [
        "# Piramide Asterischica\n",
        "*Scrivi una piramide (piú un triangolo rettangolo, ecco) di asterischi lunga a piacere (la dimensione va in una varianbile)\n",
        "Tipo:*\n",
        "\n",
        "*\n",
        "\n",
        "**\n",
        "\n",
        "*** ...\n",
        "\n",
        "La leggenda narra che alla prima edizione di questo corso il prode Bazza presentó un programma con due cicli innestati e passando una sostanziale quantitá di minuti a bestemmiare per farlo funzionare.\n",
        "\n",
        "Questo era il codice in questione (*illeggibile*):\n"
      ]
    },
    {
      "cell_type": "code",
      "metadata": {
        "id": "MoqRPZh4Dv70"
      },
      "source": [
        "num = int(input(\"N: \"))\n",
        "r = 1 #rows\n",
        "c = 1 #columns\n",
        "while (r <= num): #loop on rows\n",
        "  c = 1\n",
        "  while (c <= r): #loop on cols. the max length is equal to the row\n",
        "    print('*', end=\"\") #Print w/o newline\n",
        "    c = c + 1\n",
        "  print(\"\") #Newline\n",
        "  r = r + 1 "
      ],
      "execution_count": null,
      "outputs": []
    },
    {
      "cell_type": "markdown",
      "metadata": {
        "id": "TlMAClCjD8sq"
      },
      "source": [
        "Al che Dante commentó con qualcosa tipo: \"Interessante, ma io l'ho fatto in tre righe\".\n",
        "\n",
        "E niente, era vero.\n",
        "Come base per i prossimi esercizi, usate la sua versione:"
      ]
    },
    {
      "cell_type": "code",
      "metadata": {
        "id": "J03e7C21ENRm"
      },
      "source": [
        "num = int(input(\"N: \"))\n",
        "i = 1\n",
        "while i <= num:\n",
        "  print(\"*\" * i)\n",
        "  i = i + 1"
      ],
      "execution_count": null,
      "outputs": []
    },
    {
      "cell_type": "markdown",
      "metadata": {
        "id": "Z0Zc-w31MeUd"
      },
      "source": [
        "# Funzione Modulo\n",
        "\n",
        "Rappresenta \"il resto della divisione\", e si scrive \"%\". 5 % 3 risulta 2, perché 5 / 3 fa 1, *con resto di 2*.\n",
        "\n",
        "In pratica, si usa quasi solo il modulo di 2, perché risulta sempre 1 se abbiamo un numero dispari e 0 se ne abbiamo uno pari"
      ]
    },
    {
      "cell_type": "code",
      "metadata": {
        "id": "ToyXFjl7M-HF"
      },
      "source": [
        "#Esempio della funzione modulo\n",
        "print(\"4: \", 4 % 2)\n",
        "print(\"6: \", 6 % 2)\n",
        "print(\"8: \", 8 % 2)\n",
        "print(\"5: \", 5 % 2)\n",
        "print(\"7: \", 7 % 2)\n",
        "print(\"9: \", 9 % 2)"
      ],
      "execution_count": null,
      "outputs": []
    },
    {
      "cell_type": "markdown",
      "metadata": {
        "id": "o5-nDW3N9cMT"
      },
      "source": [
        "# ES 4. - PIRAMIDE ASTERISCHICA +\n",
        "Come prima ma sulle righe pari scrivi dei * e sulle righe dispari dei -\n",
        "\n",
        "(Hint: per sapere se un numero é pari o dispari si usa la funzione \"modulo di 2\". Si scrive a % 2 e risulta 1 se a é dispari e 0 se a é pari. Tipo:\n",
        "\n",
        "-\n",
        "\n",
        "**\n",
        "\n",
        "--- ...\n",
        "\n"
      ]
    },
    {
      "cell_type": "code",
      "metadata": {
        "id": "kD4-V__5GRFn"
      },
      "source": [
        "#Codice Piramide+:"
      ],
      "execution_count": null,
      "outputs": []
    },
    {
      "cell_type": "markdown",
      "metadata": {
        "id": "2PtMtzYH-Jfu"
      },
      "source": [
        "# ES 5. - PIRAMIDE ASTERISCHICA +++\n",
        "Scrivi la piramide dell'ES. 1 ma, arrivata alla fine riproducila speculare. Tipo:\n",
        "\n",
        "*\n",
        "\n",
        "**\n",
        "\n",
        "*** ...\n",
        " \n",
        "**\n",
        "\n",
        "*\n"
      ]
    },
    {
      "cell_type": "code",
      "metadata": {
        "id": "tEBDdkKxGSug"
      },
      "source": [
        "#Codice Piramide+++:"
      ],
      "execution_count": null,
      "outputs": []
    },
    {
      "cell_type": "markdown",
      "metadata": {
        "id": "oGjW_em8GoYK"
      },
      "source": [
        "# HW 1. GDR Bello\n",
        "Riscrivi il GDR del [notebook precedente](https://github.com/bzznrc/PythonCourse/blob/master/PythonCourse2.ipynb) ma facendo si che ogni scontro proceda fino alla vittoria di uno dei due personaggi invece di interrompersi al primo scontro.\n",
        "\n",
        "Potrebbe essere laborioso. Procedere con cautela."
      ]
    },
    {
      "cell_type": "code",
      "metadata": {
        "id": "F-veNvubLZcc"
      },
      "source": [
        ""
      ],
      "execution_count": null,
      "outputs": []
    },
    {
      "cell_type": "markdown",
      "metadata": {
        "id": "JyPk52dYHTlK"
      },
      "source": [
        "# HW 2. Congettura matematica (NERD alert)\n",
        "Scrivi un programmino che implementa la congettura spiegata in [questo articolo](https://www.quantamagazine.org/why-mathematicians-still-cant-solve-the-collatz-conjecture-20200922/) e verifica che effettivamente si finisce sempre in un loop tra gli stessi numeri.\n",
        "\n",
        "*Hint: limita il ciclo ad un numero finito di ripetizioni, tipo 100*"
      ]
    },
    {
      "cell_type": "code",
      "metadata": {
        "id": "XSgfotIxHo9u"
      },
      "source": [
        ""
      ],
      "execution_count": null,
      "outputs": []
    }
  ]
}
