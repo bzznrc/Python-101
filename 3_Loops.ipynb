{
  "nbformat": 4,
  "nbformat_minor": 0,
  "metadata": {
    "colab": {
      "name": "Python_3_Loops.ipynb",
      "provenance": [],
      "toc_visible": true,
      "authorship_tag": "ABX9TyOKNPp0nBC4lLcdjTOSYx48",
      "include_colab_link": true
    },
    "kernelspec": {
      "name": "python3",
      "display_name": "Python 3"
    }
  },
  "cells": [
    {
      "cell_type": "markdown",
      "metadata": {
        "id": "view-in-github",
        "colab_type": "text"
      },
      "source": [
        "<a href=\"https://colab.research.google.com/github/bzznrc/Python-101/blob/master/3_Loops.ipynb\" target=\"_parent\"><img src=\"https://colab.research.google.com/assets/colab-badge.svg\" alt=\"Open In Colab\"/></a>"
      ]
    },
    {
      "cell_type": "markdown",
      "metadata": {
        "id": "hKdsQOnRdj1k"
      },
      "source": [
        "# Loops ➰\n",
        "*A Loop is a contstruct used to repeat parts of code until a condition becomes true*\n",
        "\n",
        "Example:\n",
        "\n",
        "**Until** I get what this means, I'll keep reading this sentence\n",
        "\n",
        "Now, a crucial point about loops (written via *while* statements) is that in order for the program to be able to get *out of a loop*, the variables used in the condition need to be changed within the loop. If this doesn't happen, the condition result will always be the same and the loop won't ever end.\n",
        "\n",
        "🤯\n"
      ]
    },
    {
      "cell_type": "code",
      "metadata": {
        "id": "3ufDngaCBuO3"
      },
      "source": [
        "#Let's say I'm building an annoying machine that gives out the rest with 10c coins only\n",
        "cost = int (input(\"How much does this cost? \"))\n",
        "paid = int (input(\"How much did you pay? \"))\n",
        "\n",
        "#Calculating the rest we owe\n",
        "rest = paid - cost\n",
        "\n",
        "#This loop will keep executing as long as the rest is > 0\n",
        "while rest > 0:\n",
        "  print(\"Here's your 10c\")\n",
        "  #It is crucial than the rest value is updated within the loop. So at every new loop through, the rest value will decrease\n",
        "  rest = round(rest - 0.10, 1) #The round() is to stop Python doing funny things with the decimals. Don't mind this for now.\n",
        "  #We're also printing out the value at each step in order to better visualize what's going on\n",
        "  print(rest)\n",
        "\n",
        "print(\"Got out of the loop!\")"
      ],
      "execution_count": null,
      "outputs": []
    },
    {
      "cell_type": "markdown",
      "metadata": {
        "id": "aMBb7lk5CNh9"
      },
      "source": [
        "Like we saw with the If, also While gets executed if a Logic Test equals True.\n",
        "Actually one might say that a While is just an If that keeps repeating until the condition stops being True.\n",
        "\n",
        "All the logical operators we saw for If still apply to While, as well as the point about the code needing to be properly indented. The code that will get repeated by the While is only the indented one."
      ]
    },
    {
      "cell_type": "markdown",
      "metadata": {
        "id": "hpgyUkDoBBEd"
      },
      "source": [
        "# A few Examples 👨‍💻\n",
        "One common kind of loop is the one in which you have to execute the code a pre-determined amount of times. In the below example, the user will give me one number and we'll list all the numbers leading to that one.\n",
        "\n",
        "Notice the \"<=\" used in the While condition (as opposed to a \"<\"). This way we'll also print the very last number.\n",
        "\n",
        "Yes, you could put a very big number there. No, you don't really want to see what happens."
      ]
    },
    {
      "cell_type": "code",
      "metadata": {
        "id": "RhKXvMazfzyr"
      },
      "source": [
        "#This is the number I want to get to\n",
        "num_max = int (input(\"What's the max number? \"))\n",
        "#This is the number I'm starting from. It's now 1 but will increase at every loop\n",
        "#This is also called a \"counter\" variable, because -you guessed it- it counts\n",
        "num = 1\n",
        "\n",
        "#I keep going until my counter reaches my max\n",
        "while num <= num_max:\n",
        "  print(num) #Print the current counter value\n",
        "  num = num + 1 #Increase the counter by 1\n",
        "\n",
        "#If we're here (which is out of the loop), it means out counter got to the max\n",
        "print(\"I got to \", num_max, \"!\")"
      ],
      "execution_count": null,
      "outputs": []
    },
    {
      "cell_type": "markdown",
      "metadata": {
        "id": "4heaJdJO6ODs"
      },
      "source": [
        "This other kind of loop is one in which we keep asking the user for an input, and every time we check it aganist a value that we have already. Note that this time around we don't have a counter and we're not able to predict how long the loop will run beforehand. It really depends on how good the biscuit tasted of the user are.\n",
        "\n",
        "This is also roughly what happens under the hood when you input a password somewhere (there's also a bit of cryptography going on).\n",
        "\n",
        "We now ask once for the input outside the loop in order to start it, but then it's crucial that we keep asking it inside the loop as well, for the user to have a chance to tell us that Cuor di Mela are actually the best biscuit."
      ]
    },
    {
      "cell_type": "code",
      "metadata": {
        "id": "u1Eixuefytph"
      },
      "source": [
        "answer = input(\"What's the best biscuit? \")\n",
        "\n",
        "while answer != \"Cuor di Mela\":\n",
        "  answer = input(\"Not sure I heard that correctly? \")\n",
        "\n",
        "print(\"<3\")"
      ],
      "execution_count": null,
      "outputs": []
    },
    {
      "cell_type": "markdown",
      "source": [
        "This one is kind of a fancier way to write it. Basically we don't start with a question outside of the loop but we ask the question within the loop condition. When it executes, the input() goes through, stopping the execution for the user to input the value, then that value gets compared to the \"Cuor di Mela\" string on the fly.\n",
        "\n",
        "In this case we don't really need to to anything *inside* the loop, so we have a special *pass* command that basically does nothing. If we're outside of the loop it means that the check returned True at some point, then we can cheer.\n",
        "\n",
        "This is kinda advanced and I won't lie, I added this for for flexing."
      ],
      "metadata": {
        "id": "q405eIlpVQjE"
      }
    },
    {
      "cell_type": "code",
      "source": [
        "while input(\"What's the best biscuit? \") != \"Cuor di Mela\":\n",
        "  pass\n",
        "\n",
        "print(\"<3\")"
      ],
      "metadata": {
        "id": "JNOJV-EyU_WN"
      },
      "execution_count": null,
      "outputs": []
    },
    {
      "cell_type": "markdown",
      "metadata": {
        "id": "fXZ3FvQOVbqk"
      },
      "source": [
        "# ES. 1 - Ultimate Question ✨\n",
        "Keep asking the user for the Answer to the Ultimate Question of Life, the Universe, and Everything.\n",
        "\n",
        "When they hit 42, cheer them.\n",
        "\n"
      ]
    },
    {
      "cell_type": "code",
      "metadata": {
        "id": "vxa4UtLBV-az"
      },
      "source": [
        ""
      ],
      "execution_count": null,
      "outputs": []
    },
    {
      "cell_type": "markdown",
      "metadata": {
        "id": "xRcFDHypVwOJ"
      },
      "source": [
        "# ES. 2 - Randos 🔢\n",
        "Ask the user how many random numbers they want. Also ask them the max and min these numbers need to be within.\n",
        "\n",
        "Give them the numbers."
      ]
    },
    {
      "cell_type": "code",
      "metadata": {
        "id": "6oGkCVjnV-vh"
      },
      "source": [
        ""
      ],
      "execution_count": null,
      "outputs": []
    },
    {
      "cell_type": "markdown",
      "metadata": {
        "id": "imxgewS7U4V8"
      },
      "source": [
        "# Da Bomb 💣\n",
        "Coding is not only about writing code, it's also about figuring out what's written in someone else's.\n",
        "\n",
        "Let's try to figure out what goes on in this code:\n",
        "- Check the variables defined at the beginning\n",
        "- What's that *win = False* one you ask? That's a boolean variable (can be either True or False) and it's initialized as False\n",
        "- Focus on the logic blocks, defined by the indentations\n",
        "  - We have a large While loop, that includes an If/Then block\n",
        "  - Then there's another If/Then block outside of the loop\n",
        "- It's safe to say that the one within might be executed a number of times, and the one outside will be executed just once"
      ]
    },
    {
      "cell_type": "code",
      "metadata": {
        "id": "9M50_9UR1Ma6"
      },
      "source": [
        "import random\n",
        "\n",
        "n_min = 1\n",
        "n_max = 9\n",
        "count = 5\n",
        "win = False\n",
        "\n",
        "#Setting the secret code once\n",
        "secret_code = random.randint(n_min, n_max)\n",
        "\n",
        "print(\"This is Da Bomb\")\n",
        "print(\"You have \", count, \" tries. The code is between \", n_min, \" and \", n_max)\n",
        "\n",
        "#This keeps going until count is > 0 and win==False\n",
        "while (count > 0 and win == False):\n",
        "\n",
        "  #Updating the count variable\n",
        "  count = count - 1\n",
        "\n",
        "  #Getting a guess from the user\n",
        "  guess = int (input(\"Guess the secret code:  \"))\n",
        "  \n",
        "  #Checking the guess against the code\n",
        "  if (guess == secret_code):\n",
        "    win = True\n",
        "  else:\n",
        "    print(\"Nope! You have \", count, \" tries left 🙈\")\n",
        "\n",
        "#Communicating the result\n",
        "if (win == False):\n",
        "  print(\"💥💥💥\")\n",
        "  print(\"The code was \", secret_code, \" btw\")\n",
        "else:\n",
        "  print(\"Pheeewww! You've done it! 🕵️‍♂️\")"
      ],
      "execution_count": null,
      "outputs": []
    },
    {
      "cell_type": "markdown",
      "metadata": {
        "id": "I8sCAOWbIh-X"
      },
      "source": [
        "# Time! ⏳\n",
        "\n",
        "Lemme show you **datetime.now()**.\n",
        "It's quite useful to do all things time-related (you don't say?). What it does is it basically returns an *object* (we'll see what it is in a couple notebooks). This object contains lots of time-related values (current year, month, day, hour, minutes, and seconds)."
      ]
    },
    {
      "cell_type": "code",
      "metadata": {
        "id": "YSdxCyF0I_d0"
      },
      "source": [
        "import datetime\n",
        "now = datetime.datetime.now() #now é un \"oggetto\". La funzione now() non ha bisogno di input\n",
        "#lo usiamo come sotto per ottenere le variabili che descrivono il tempo:\n",
        "year = now.year\n",
        "month = now.month\n",
        "day = now.day\n",
        "hour = now.hour\n",
        "minute = now.minute\n",
        "second = now.second\n",
        "\n",
        "print(\"Today is: \", year, \"/\", month, \"/\", day)\n",
        "print(\"The time is: \", hour, \":\", minute, \":\", second)"
      ],
      "execution_count": null,
      "outputs": []
    },
    {
      "cell_type": "markdown",
      "source": [
        "And what about **time.sleep()**, which allows to stop the execution for a given amount of seconds."
      ],
      "metadata": {
        "id": "VU2EnwvpcXCr"
      }
    },
    {
      "cell_type": "code",
      "metadata": {
        "id": "q9cWjeuiKN-E"
      },
      "source": [
        "import time\n",
        "\n",
        "print(\"Yawn. Think I'll nap 5 seconds!\")\n",
        "time.sleep(5) #time.sleep() only wants some seconds of us. Oh if everyone was like time.sleep().\n",
        "print(\"Hey! Now I feel better!\")"
      ],
      "execution_count": null,
      "outputs": []
    },
    {
      "cell_type": "markdown",
      "metadata": {
        "id": "a4MydCwtKp3K"
      },
      "source": [
        "# ES. 3 - Alarm ⏰\n",
        "By combinig datetime.now() and time.sleep() we should be able to build an alarm:\n",
        "\n",
        "- Let's ask the user for the hours and minutes it wants the alarm to go off\n",
        "- If the current hour and minutes are matching to the alarm ones, let's kick it off!\n",
        "- You'll probably want to call a new datetime.datetime.now() at every loop, otherwise you'll always keep checking the initial time"
      ]
    },
    {
      "cell_type": "code",
      "metadata": {
        "id": "tsrsqg4BKpY_"
      },
      "source": [
        ""
      ],
      "execution_count": null,
      "outputs": []
    },
    {
      "cell_type": "markdown",
      "metadata": {
        "id": "7LONOrSL857q"
      },
      "source": [
        "# Piramide Asterischica\n",
        "*Scrivi una piramide (piú un triangolo rettangolo, ecco) di asterischi lunga a piacere (la dimensione va in una varianbile)\n",
        "Tipo:*\n",
        "\n",
        "*\n",
        "\n",
        "**\n",
        "\n",
        "*** ...\n",
        "\n",
        "La leggenda narra che alla prima edizione di questo corso il prode Bazza presentó un programma con due cicli innestati e passando una sostanziale quantitá di minuti a bestemmiare per farlo funzionare.\n",
        "\n",
        "Questo era il codice in questione (*illeggibile*):\n"
      ]
    },
    {
      "cell_type": "code",
      "metadata": {
        "id": "MoqRPZh4Dv70"
      },
      "source": [
        "num = int(input(\"N: \"))\n",
        "r = 1 #rows\n",
        "c = 1 #columns\n",
        "while (r <= num): #loop on rows\n",
        "  c = 1\n",
        "  while (c <= r): #loop on cols. the max length is equal to the row\n",
        "    print('*', end=\"\") #Print w/o newline\n",
        "    c = c + 1\n",
        "  print(\"\") #Newline\n",
        "  r = r + 1 "
      ],
      "execution_count": null,
      "outputs": []
    },
    {
      "cell_type": "markdown",
      "metadata": {
        "id": "TlMAClCjD8sq"
      },
      "source": [
        "Al che Dante commentó con qualcosa tipo: \"Interessante, ma io l'ho fatto in tre righe\".\n",
        "\n",
        "E niente, era vero.\n",
        "Come base per i prossimi esercizi, usate la sua versione:"
      ]
    },
    {
      "cell_type": "code",
      "metadata": {
        "id": "J03e7C21ENRm"
      },
      "source": [
        "num = int(input(\"N: \"))\n",
        "i = 1\n",
        "while i <= num:\n",
        "  print(\"*\" * i)\n",
        "  i = i + 1"
      ],
      "execution_count": null,
      "outputs": []
    },
    {
      "cell_type": "markdown",
      "metadata": {
        "id": "Z0Zc-w31MeUd"
      },
      "source": [
        "# Funzione Modulo\n",
        "\n",
        "Rappresenta \"il resto della divisione\", e si scrive \"%\". 5 % 3 risulta 2, perché 5 / 3 fa 1, *con resto di 2*.\n",
        "\n",
        "In pratica, si usa quasi solo il modulo di 2, perché risulta sempre 1 se abbiamo un numero dispari e 0 se ne abbiamo uno pari"
      ]
    },
    {
      "cell_type": "code",
      "metadata": {
        "id": "ToyXFjl7M-HF"
      },
      "source": [
        "#Esempio della funzione modulo\n",
        "print(\"4: \", 4 % 2)\n",
        "print(\"6: \", 6 % 2)\n",
        "print(\"8: \", 8 % 2)\n",
        "print(\"5: \", 5 % 2)\n",
        "print(\"7: \", 7 % 2)\n",
        "print(\"9: \", 9 % 2)"
      ],
      "execution_count": null,
      "outputs": []
    },
    {
      "cell_type": "markdown",
      "metadata": {
        "id": "o5-nDW3N9cMT"
      },
      "source": [
        "# ES 4. - PIRAMIDE ASTERISCHICA +\n",
        "Come prima ma sulle righe pari scrivi dei * e sulle righe dispari dei -\n",
        "\n",
        "(Hint: per sapere se un numero é pari o dispari si usa la funzione \"modulo di 2\". Si scrive a % 2 e risulta 1 se a é dispari e 0 se a é pari. Tipo:\n",
        "\n",
        "-\n",
        "\n",
        "**\n",
        "\n",
        "--- ...\n",
        "\n"
      ]
    },
    {
      "cell_type": "code",
      "metadata": {
        "id": "kD4-V__5GRFn"
      },
      "source": [
        "#Codice Piramide+:"
      ],
      "execution_count": null,
      "outputs": []
    },
    {
      "cell_type": "markdown",
      "metadata": {
        "id": "2PtMtzYH-Jfu"
      },
      "source": [
        "# ES 5. - PIRAMIDE ASTERISCHICA +++\n",
        "Scrivi la piramide dell'ES. 1 ma, arrivata alla fine riproducila speculare. Tipo:\n",
        "\n",
        "*\n",
        "\n",
        "**\n",
        "\n",
        "*** ...\n",
        " \n",
        "**\n",
        "\n",
        "*\n"
      ]
    },
    {
      "cell_type": "code",
      "metadata": {
        "id": "tEBDdkKxGSug"
      },
      "source": [
        "#Codice Piramide+++:"
      ],
      "execution_count": null,
      "outputs": []
    },
    {
      "cell_type": "markdown",
      "metadata": {
        "id": "JyPk52dYHTlK"
      },
      "source": [
        "# HW 2. Congettura matematica (NERD alert)\n",
        "Scrivi un programmino che implementa la congettura spiegata in [questo articolo](https://www.quantamagazine.org/why-mathematicians-still-cant-solve-the-collatz-conjecture-20200922/) e verifica che effettivamente si finisce sempre in un loop tra gli stessi numeri.\n",
        "\n",
        "*Hint: limita il ciclo ad un numero finito di ripetizioni, tipo 100*"
      ]
    },
    {
      "cell_type": "code",
      "metadata": {
        "id": "XSgfotIxHo9u"
      },
      "source": [
        ""
      ],
      "execution_count": null,
      "outputs": []
    }
  ]
}