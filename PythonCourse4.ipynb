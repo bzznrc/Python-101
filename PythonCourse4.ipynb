{
  "nbformat": 4,
  "nbformat_minor": 0,
  "metadata": {
    "colab": {
      "name": "Copy of PythonCourse3.ipynb",
      "provenance": [],
      "authorship_tag": "ABX9TyOHFY/6Xa8ciI+Ke7dknMtX",
      "include_colab_link": true
    },
    "kernelspec": {
      "name": "python3",
      "display_name": "Python 3"
    }
  },
  "cells": [
    {
      "cell_type": "markdown",
      "metadata": {
        "id": "view-in-github",
        "colab_type": "text"
      },
      "source": [
        "<a href=\"https://colab.research.google.com/github/bzznrc/PythonCourse/blob/master/PythonCourse4.ipynb\" target=\"_parent\"><img src=\"https://colab.research.google.com/assets/colab-badge.svg\" alt=\"Open In Colab\"/></a>"
      ]
    },
    {
      "cell_type": "markdown",
      "metadata": {
        "id": "kzfcasc_zyql"
      },
      "source": [
        "# 0 - Recap rapidino\n",
        "Un ciclo deve avere:\n",
        "\n",
        "-Una condizione che -se vera- ci fa ripetere la logica\n",
        "\n",
        "\n",
        "> Nell'esempio, num <= num_max\n",
        "\n",
        "\n",
        "-Spesso: una varabile che ne controlla il flusso\n",
        "\n",
        "\n",
        "> Nell'esempio, num (che poi aumenterá)\n",
        "\n",
        "-Dentro al ciclo ci dev'essere il modo per cambiare gli elementi che ne determinano l'esecuzione\n",
        "\n",
        "\n",
        "\n",
        "> Che significa: se eseguo finché num <= num_max ma poi non aumento mai num, quello rimarrá sempre piú piccolo di num_max e il ciclo sará infinito. In questo caso devo incrementare num in ogni ciclo. In altri cicli che dipendono dagli input, devo richiedere un nuovo input entro ogni ciclo, etc...\n",
        "\n",
        "\n",
        "\n"
      ]
    },
    {
      "cell_type": "code",
      "metadata": {
        "id": "4MoI7NySzuNm"
      },
      "source": [
        "num = 1\n",
        "num_max = int(input(\"Dimmi il numero max:\"))\n",
        "\n",
        "while (num <= num_max):\n",
        "  print(num)\n",
        "  #TODO: Aggiungiamo una print in caso di numero pari\n",
        "  num = num + 1\n",
        "\n",
        "print(\"Sono arrivato a \", num_max)"
      ],
      "execution_count": null,
      "outputs": []
    },
    {
      "cell_type": "markdown",
      "metadata": {
        "id": "imxgewS7U4V8"
      },
      "source": [
        "# 1 - Liste\n",
        "-Lists are a collection of values\n",
        "\n",
        "-A list is comprised of the elements within the square brackets, separated by comma\n",
        "\n",
        "-You can get to an element by specifying its position\n"
      ]
    },
    {
      "cell_type": "code",
      "metadata": {
        "id": "9M50_9UR1Ma6"
      },
      "source": [
        "my_list = [4,5,7,9,24]\n",
        "#Print the 3rd el. in my_list (it starts from 0)\n",
        "print(my_list[2])\n",
        "\n",
        "food_list = [\"sushi\", \"pizza\", \"burger\"]\n",
        "#Print the 1st el. in food_list (it starts from 0)\n",
        "print(food_list[0])\n",
        "\n"
      ],
      "execution_count": null,
      "outputs": []
    },
    {
      "cell_type": "markdown",
      "metadata": {
        "id": "7LONOrSL857q"
      },
      "source": [
        "# 1.1 - Brutture con Liste\n",
        "-Python allows you to do -basically- whatever you want\n",
        "\n",
        "-That includes creating lists that contain both numbers and text\n",
        "\n",
        "-That is a terribly bad idea that will definitely backfire in a number of ways\n",
        "\n",
        "-Don’t do brutture con liste please\n",
        "\n",
        "-If you do brutture con liste don’t say mention my name please\n",
        "\n"
      ]
    },
    {
      "cell_type": "code",
      "metadata": {
        "id": "xf-rdy7kuLYs"
      },
      "source": [
        "list_brutta = [1,1,3,5,8,\"FIBONACCIHHH\"]\n",
        "print(list_brutta[3])\n",
        "print(list_brutta[5])"
      ],
      "execution_count": null,
      "outputs": []
    },
    {
      "cell_type": "markdown",
      "metadata": {
        "id": "o5-nDW3N9cMT"
      },
      "source": [
        "# 2 - Remove e Append\n",
        "\n",
        "**list.remove(value)**\n",
        "\n",
        "The remove() method removes the first occurrence of the element with the specified value.\n",
        "\n",
        "**list.append(value)**\n",
        "\n",
        "The append() method adds an element to the end of the list.\n",
        "\n"
      ]
    },
    {
      "cell_type": "code",
      "metadata": {
        "id": "bE8r-SKQuQ14"
      },
      "source": [
        "TMNT_list = [\"Leonardo\", \"Michelangelo\", \n",
        "            \"Donatello\", \"Gianfranco\"]\n",
        "print(\"TMNT 1: \", TMNT_list)\n",
        "TMNT_list.remove(\"Gianfranco\")\n",
        "print(\"TMNT 2: \", TMNT_list)\n",
        "TMNT_list.append(\"Raffaello\")\n",
        "print(\"TMNT 3: \", TMNT_list)"
      ],
      "execution_count": null,
      "outputs": []
    },
    {
      "cell_type": "markdown",
      "metadata": {
        "id": "2PtMtzYH-Jfu"
      },
      "source": [
        "## 3 - Cicli For\n",
        "\n",
        "A for loop is used for iterating over a sequence (that is either a list, a tuple, a dictionary, a set, or a string).\n",
        "\n",
        "On each loop it assigns the current value of the list to the variable specified (“ninja” in the example)\n",
        "\n",
        "https://www.w3schools.com/python/python_for_loops.asp\n",
        "\n"
      ]
    },
    {
      "cell_type": "code",
      "metadata": {
        "id": "7vCDuVx8-hdj"
      },
      "source": [
        "TMNT_list = [\"Leonardo\", \"Michelangelo\", \n",
        "            \"Donatello\", \"Raffaello\"]\n",
        "\n",
        "for ninja in TMNT_list:\n",
        "    print(\"[FOR]    Ciao sono\", ninja)\n",
        "\n",
        "#Returns the length of the list\n",
        "TMNT_len = len(TMNT_list)\n",
        "i = 0 #counter\n",
        "while (i < TMNT_len):\n",
        "    print(\"[WHILE]  Ciao sono\", TMNT_list[i])\n",
        "    i = i + 1 #incrementing the counter"
      ],
      "execution_count": null,
      "outputs": []
    },
    {
      "cell_type": "markdown",
      "metadata": {
        "id": "hKdsQOnRdj1k"
      },
      "source": [
        "# 4 - Cose simpatiche con Liste e For innestati"
      ]
    },
    {
      "cell_type": "code",
      "metadata": {
        "id": "RhKXvMazfzyr"
      },
      "source": [
        "adj = [\"red\", \"big\", \"tasty\"]\n",
        "fruits = [\"apple\", \"banana\", \"cherry\"]\n",
        "\n",
        "for x in adj:\n",
        "  for y in fruits:\n",
        "    print(x, y)"
      ],
      "execution_count": null,
      "outputs": []
    },
    {
      "cell_type": "markdown",
      "metadata": {
        "id": "fXZ3FvQOVbqk"
      },
      "source": [
        "# 5 - Dizionari\n",
        "Dictionaries are collection of key/value pairs\n",
        "\n",
        "You can get to a value by specifying its key\n",
        "\n",
        "Both key and value can be strings (text) or numbers\n",
        "\n",
        "\n"
      ]
    },
    {
      "cell_type": "code",
      "metadata": {
        "id": "vxa4UtLBV-az"
      },
      "source": [
        "## DICTIONARIES ##\n",
        "my_dict = {\"Bazza\": 4, \"Omar\": 3, \"Gabo\": 2}\n",
        "#Print the value for \"Bazza\"\n",
        "print(my_dict[\"Bazza\"])\n",
        "\n",
        "fav_food = {\"Italy\": \"pizza\", \n",
        "            \"Japan\": \"sushi\", \n",
        "            \"USA\": \"burger\"}\n",
        "#Print the value for \"USA\"\n",
        "print(fav_food[\"USA\"])"
      ],
      "execution_count": null,
      "outputs": []
    },
    {
      "cell_type": "markdown",
      "metadata": {
        "id": "xRcFDHypVwOJ"
      },
      "source": [
        "# ES. 1\n",
        "Scriviamo una logica per la gestione degli ingredienti in una cucina.\n",
        "\n",
        "Questo pezzo di codice ci serve per inizializzare gli ingredienti\n",
        "\n",
        "-Chiediamo all'utente di scrivere gli ingredienti che ha, uno per volta\n",
        "\n",
        "NB: Inizialmente, non sappiamo quanti ingredienti ci dará"
      ]
    },
    {
      "cell_type": "code",
      "metadata": {
        "id": "8JAqsOS1u4aq"
      },
      "source": [
        ""
      ],
      "execution_count": null,
      "outputs": []
    },
    {
      "cell_type": "markdown",
      "metadata": {
        "id": "An1We6iJu6Dn"
      },
      "source": [
        "# ES. 2\n",
        "Questo pezzo di codice ci serve per rimuovere ingredienti, quando finiscono\n",
        "\n",
        "-Chiediamo all'utente di scriverci quali ingredienti ha usato, uno per volta\n",
        "\n",
        "-Rimuoviamo quell'ingrediente dalla lista degli ingredienti\n",
        "\n",
        "NB: Inizialmente, non sappiamo quanti ingredienti vorrá rimuovere"
      ]
    },
    {
      "cell_type": "code",
      "metadata": {
        "id": "gqF3eoXcxFxc"
      },
      "source": [
        ""
      ],
      "execution_count": null,
      "outputs": []
    },
    {
      "cell_type": "markdown",
      "metadata": {
        "id": "o5NI7UVxx642"
      },
      "source": [
        "# ES. 3\n",
        "Questo pezzo di codice ci serve per aggiungere ingredienti, dopo la spesa\n",
        "\n",
        "-Chiediamo all'utente di scriverci quali ingredienti ha comprato, uno per volta\n",
        "\n",
        "-Controlliamo se quell'ingrediente era giá presente\n",
        "\n",
        "> Se si, insultiamo l'utente\n",
        "\n",
        "> Se no, aggiungiamo quell'ingrediente dalla lista degli ingredienti\n",
        "\n",
        "NB: Inizialmente, non sappiamo quanti ingredienti vorrá aggiungere"
      ]
    },
    {
      "cell_type": "code",
      "metadata": {
        "id": "JLNkpVkj1ZEP"
      },
      "source": [
        ""
      ],
      "execution_count": null,
      "outputs": []
    },
    {
      "cell_type": "markdown",
      "metadata": {
        "id": "H05KYJpfuelw"
      },
      "source": [
        "# HINTS\n",
        "Questo é il posto giusto se ti sei perso\n",
        "\n",
        "-ES.1:\n",
        "While con variabile di controllo (True/False). Ad ogni ciclo faccio un \n",
        "append con il nuovo ingrediente in una lista. Prima della fine del ciclo, chiedo all'utente se vuole continuare.\n"
      ]
    }
  ]
}