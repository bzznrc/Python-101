{
 "cells": [
  {
   "cell_type": "markdown",
   "id": "3b84aa60",
   "metadata": {},
   "source": [
    "# Conditions 🚦\n",
    "A condition is a statement that controls the flow of execution depending on some criteria. It is typically used in `if`, `elif`, and `else` statements (as well as `while` loops, which we'll see in Episode 3).\n",
    "\n",
    "The condition evaluates to either **True** or **False**, and the code under the condition is executed if the condition is True. If the condition is False, the code is skipped.\n",
    "\n",
    "For example, in the following code:\n",
    "```python\n",
    "if x > 10:\n",
    "    print(\"x is greater than 10\")\n",
    "```\n",
    "The condition is `x > 10`. If this condition is True (i.e., if `x` is indeed greater than 10), then `\"x is greater than 10\"` will be printed. If the condition is False (i.e., `x` is 10 or less), the print statement will be skipped.\n",
    "\n",
    "```python\n",
    "if x > 10:\n",
    "    print(\"x is greater than 10\")\n",
    "else:\n",
    "    print(\"x is smaller than or equal to 10\")\n",
    "```\n",
    "In this case, if `x` is 10 or less, we'll have the statement in the else block showing.\n",
    "\n",
    "<img src=\"https://imgflip.com/s/meme/Two-Buttons.jpg\" width=\"500\" height=\"300\">"
   ]
  },
  {
   "cell_type": "code",
   "execution_count": null,
   "id": "26eefbbc",
   "metadata": {},
   "outputs": [],
   "source": [
    "# Examples of conditions\n",
    "\n",
    "# Example 1: Simple condition\n",
    "a = 15\n",
    "b = 7\n",
    "\n",
    "if a >= b:\n",
    "    print(\"A is bigger than B (or equal, I can see you trying to outsmart me)\")  # TRUE\n",
    "else:\n",
    "    print(\"A is smaller than B\")  # FALSE\n",
    "\n",
    "# Example 2: Complex condition\n",
    "a = 2\n",
    "b = 3\n",
    "c = 4\n",
    "\n",
    "if (a != b or c < 3) and (a > 1):  # (True or False) and True => True and True\n",
    "    print(\"YES!\")\n",
    "else:\n",
    "    print(\"Result is FALSE\")"
   ]
  },
  {
   "cell_type": "markdown",
   "id": "5805882b",
   "metadata": {},
   "source": [
    "# Logical Operators ✅❎\n",
    "A condition can be True or False based on the result of a logical expression.\n",
    "To define one, we use the following operators (more on that [here](https://www.w3schools.com/python/python_operators.asp)):\n",
    "\n",
    "![Comparison Operators](https://drive.google.com/uc?id=1fFVzy-p9CWndNNWnqScwhqFPP5M7V7D3&export=download)\n",
    "\n",
    "![Logical Operators](https://drive.google.com/uc?id=1fujdEPJnM2ISm2jod7zR-xKJ-mWvwrAR&export=download)\n",
    "\n",
    "Examples:\n",
    "\n",
    "```python\n",
    "if a > 3:\n",
    "    # Do something\n",
    "\n",
    "if a <= b:\n",
    "    # Do something\n",
    "\n",
    "if a > 2 and b > 3:\n",
    "    # Do something\n",
    "\n",
    "if a == 7:\n",
    "    # Do something\n",
    "```\n",
    "\n",
    "Watch out for the most classic error a programmer might make, which is using `=` instead of `==` for a logical test:\n",
    "\n",
    "- `=` is used to **assign** a value to a variable: `best_biscuit = 'Cuor di Mela'`\n",
    "- `==` is used to **compare** values in logical tests: `if best_biscuit == 'Cuor di Mela'`"
   ]
  },
  {
   "cell_type": "markdown",
   "id": "2387d7bb",
   "metadata": {},
   "source": [
    "# Behold! The Table of Truth 🌟\n",
    "\n",
    "Is this the best image of a boolean table on the internet? Probably not.\n",
    "\n",
    "![Boolean Table](https://cdn-learn.adafruit.com/assets/assets/000/051/593/medium800/components_and-or-not_tables.png?1520357909)"
   ]
  },
  {
   "cell_type": "markdown",
   "id": "a1f3f9ab",
   "metadata": {},
   "source": [
    "# Code Formatting ✂\n",
    "Most programming languages like C, C++, and Java use braces `{}` to define a block of code. Python, however, uses indentation.\n",
    "\n",
    "A code block (body of a function, loop, etc.) starts with indentation and ends with the first unindented line. The amount of indentation is up to you, but it must be consistent throughout that block.\n",
    "\n",
    "This is how to enclose code blocks in C:\n",
    "\n",
    "```c\n",
    "if (time >= 12 && time <= 14) {\n",
    "    printf(\"Time for spaghetti! :)\");\n",
    "} else {\n",
    "    printf(\"Not time for spaghetti :(\");\n",
    "    printf(\"Kidding! It's always time for spaghetti :)\");\n",
    "}\n",
    "```\n",
    "\n",
    "And this is how to do it in Python:"
   ]
  },
  {
   "cell_type": "code",
   "execution_count": null,
   "id": "c8378823",
   "metadata": {},
   "outputs": [],
   "source": [
    "# Example of code blocks with indentation in Python\n",
    "\n",
    "# Get the current hour\n",
    "from datetime import datetime\n",
    "now = datetime.now()\n",
    "time = now.hour\n",
    "print(f\"The current hour is {time}\")\n",
    "\n",
    "if 12 <= time <= 14:\n",
    "    print(\"Time for spaghetti! :)\")\n",
    "else:\n",
    "    print(\"Not time for spaghetti :(\")\n",
    "    print(\"Kidding! It's always time for spaghetti :)\")"
   ]
  },
  {
   "cell_type": "markdown",
   "id": "fbbbd8bf",
   "metadata": {},
   "source": [
    "# Elif Statements 🔄\n",
    "`elif` is shorthand for \"else if\". We can add as many as we want between an `if` and an `else`, and each one of them has its own condition.\n",
    "\n",
    "Python will read all the options starting from the `if`, down through all the `elif`s, and then the `else`. The first of these options that tests `True` gets executed, and everything else in the statement is skipped. The program then resumes from the first line outside the `if`/`else` block."
   ]
  },
  {
   "cell_type": "code",
   "execution_count": null,
   "id": "2f4651f1",
   "metadata": {},
   "outputs": [],
   "source": [
    "biscuit = input(\"My favourite biscuit is: \")\n",
    "\n",
    "if biscuit == \"Cuor di Mela\":\n",
    "    print(\"<3\")\n",
    "elif biscuit == \"Baiocchi\":\n",
    "    print(\"That's great!\")\n",
    "elif biscuit == \"Gocciole\":\n",
    "    print(\"Fair\")\n",
    "else:\n",
    "    print(\"We're not biscuit pals :(\")\n",
    "\n",
    "print(\"The program resumes here!\")"
   ]
  },
  {
   "cell_type": "markdown",
   "id": "ef33b341",
   "metadata": {},
   "source": [
    "# Nested Conditions 🎁\n",
    "In the code that gets executed within one branch, we can insert another `if`/`else` statement. In this case, we have *nested* conditions.\n",
    "\n",
    "*Inception intensifies.*"
   ]
  },
  {
   "cell_type": "code",
   "execution_count": null,
   "id": "b6c1d085",
   "metadata": {},
   "outputs": [],
   "source": [
    "biscuit = input(\"My favourite biscuit is: \")\n",
    "\n",
    "if biscuit == \"Cuor di Mela\":\n",
    "    really_really_sure = input(\"Are you REALLY REALLY SURE? \")\n",
    "    if really_really_sure.lower() in [\"yes\", \"y\"]:\n",
    "        print(\"<3 <3 <3\")\n",
    "    else:\n",
    "        print(\"</3\")\n",
    "elif biscuit == \"Baiocchi\":\n",
    "    print(\"That's great!\")\n",
    "elif biscuit == \"Gocciole\":\n",
    "    print(\"Fair\")\n",
    "else:\n",
    "    print(\"We're not biscuit pals :(\")\n",
    "\n",
    "print(\"The program resumes here!\")"
   ]
  },
  {
   "cell_type": "markdown",
   "id": "b916dee9",
   "metadata": {},
   "source": [
    "# Libraries and Random! 📚\n",
    "Now we'll have a look at **libraries**, and especially at the `random` one.\n",
    "\n",
    "A library is a ready-to-use and widely used collection of code that anyone can include in their projects in order not to have to reinvent the wheel every time. Most often, these collections are developed and updated for free by communities of programmers.\n",
    "\n",
    "Programmers are very nice people.\n",
    "\n",
    "We can access the `random` library with an `import` statement. From then on, we can access its content with dot notation, as if its contents were subfolders within the main `random` folder.\n",
    "\n",
    "What we'll use is the `random.randint()` function, which takes a minimum and maximum value as inputs (i.e., within the brackets and comma-separated) and returns a random integer within the boundaries as output (which is a value we can then assign to a variable)."
   ]
  },
  {
   "cell_type": "code",
   "execution_count": null,
   "id": "89b88e85",
   "metadata": {},
   "outputs": [],
   "source": [
    "import random  # 'random' is the library, 'randint()' is the function we'll use\n",
    "\n",
    "n_min = 1\n",
    "n_max = 100\n",
    "\n",
    "# Providing my n_min and n_max variables as the inputs for the randint function\n",
    "n_ran = random.randint(n_min, n_max)\n",
    "print(\"Random nr. 1:\", n_ran)\n",
    "\n",
    "n_ran = random.randint(n_min, n_max)\n",
    "print(\"Random nr. 2:\", n_ran)\n",
    "\n",
    "# We can also provide inputs directly, without using variables\n",
    "print(\"Random nr. 3:\", random.randint(1000, 10000))"
   ]
  },
  {
   "cell_type": "markdown",
   "id": "7511fac2",
   "metadata": {},
   "source": [
    "# Baiocchi Slot Machine! 🍪\n",
    "\n",
    "And now we have everything we need to build our ~~drinking game!~~\n",
    "\n",
    "Ahem... our Baiocchi Slot Machine!"
   ]
  },
  {
   "cell_type": "code",
   "execution_count": null,
   "id": "0ae3cafd",
   "metadata": {},
   "outputs": [],
   "source": [
    "import random\n",
    "\n",
    "ran = random.randint(1, 10)\n",
    "print(\"Random number:\", ran)\n",
    "\n",
    "if ran == 10:\n",
    "    print(\"THREE BAIOCCHIS! 🍪🍪🍪\")\n",
    "elif ran >= 5:\n",
    "    print(\"One Baiocco! 🍪\")\n",
    "else:\n",
    "    print(\"No Baiocchis :(\")"
   ]
  },
  {
   "cell_type": "markdown",
   "id": "682cc92e",
   "metadata": {},
   "source": [
    "# Exercise 1 - Guess My Number 🧞\n",
    "\n",
    "Write a program that:\n",
    "\n",
    "- Generates a random number (between 1 and 10)\n",
    "- Asks the user for a guess (between 1 and 10)\n",
    "- If the numbers are equal, prints something nice for the user\n",
    "- Prints both numbers regardless of their values (this is for checking what's going on)"
   ]
  },
  {
   "cell_type": "code",
   "execution_count": null,
   "id": "b8548d29",
   "metadata": {},
   "outputs": [],
   "source": [
    "# Exercise 1 code here\n",
    "import random\n",
    "\n",
    "secret_number = random.randint(1, 10)\n",
    "guess = int(input(\"Guess a number between 1 and 10: \"))\n",
    "\n",
    "if guess == secret_number:\n",
    "    print(\"Congratulations! You guessed it!\")\n",
    "else:\n",
    "    print(\"Sorry, that's not it.\")\n",
    "\n",
    "print(f\"The secret number was {secret_number}, and your guess was {guess}.\")"
   ]
  },
  {
   "cell_type": "markdown",
   "id": "c9706602",
   "metadata": {},
   "source": [
    "# Exercise 2 - Risk! 1 Throw / 1 Dice 🚀\n",
    "\n",
    "Okay, so we don't know loops yet, so we can't really code a full-fledged Risk! battle, but we can definitely code just one dice throw.\n",
    "\n",
    "Simulate the result of one turn where a player attacks with 1 tank and another defends with 1 tank."
   ]
  },
  {
   "cell_type": "code",
   "execution_count": null,
   "id": "d328538d",
   "metadata": {},
   "outputs": [],
   "source": [
    "# Exercise 2 code here\n",
    "import random\n",
    "\n",
    "attacker_roll = random.randint(1, 6)\n",
    "defender_roll = random.randint(1, 6)\n",
    "\n",
    "print(f\"Attacker rolls: {attacker_roll}\")\n",
    "print(f\"Defender rolls: {defender_roll}\")\n",
    "\n",
    "if attacker_roll > defender_roll:\n",
    "    print(\"Attacker wins! Defender loses one unit.\")\n",
    "elif defender_roll >= attacker_roll:\n",
    "    print(\"Defender wins! Attacker loses one unit.\")"
   ]
  },
  {
   "cell_type": "markdown",
   "id": "fa4e2082",
   "metadata": {},
   "source": [
    "# Exercise 3 - Guess 3 Times 🥉🥈🥇\n",
    "\n",
    "Generate a random number and ask the user to guess if it's even or odd. If they're right, do it again. If they're right, do it again. If they're right, just stop please (and congratulate them)."
   ]
  },
  {
   "cell_type": "code",
   "execution_count": null,
   "id": "779b9621",
   "metadata": {},
   "outputs": [],
   "source": [
    "# Exercise 3 code here\n",
    "import random\n",
    "\n",
    "for attempt in range(1, 4):\n",
    "    ran = random.randint(1, 10)\n",
    "    eo = int(input(f\"Attempt {attempt}: Is the number Even (0) or Odd (1)? \"))\n",
    "    if ran % 2 == eo:\n",
    "        print(f\"Success! {attempt}\")\n",
    "        if attempt == 3:\n",
    "            print(\"Congratulations! You guessed correctly three times!\")\n",
    "            break\n",
    "    else:\n",
    "        print(\"Incorrect guess.\")\n",
    "        print(\"Good luck next time!\")\n",
    "        break"
   ]
  }
 ],
 "metadata": {
  "jupytext": {
   "cell_metadata_filter": "-all",
   "main_language": "python",
   "notebook_metadata_filter": "-all"
  }
 },
 "nbformat": 4,
 "nbformat_minor": 5
}
