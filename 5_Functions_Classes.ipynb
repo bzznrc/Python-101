{
  "nbformat": 4,
  "nbformat_minor": 0,
  "metadata": {
    "colab": {
      "name": "PythonCourse_5.ipynb",
      "provenance": [],
      "toc_visible": true,
      "authorship_tag": "ABX9TyNMgQs8A9rnD7TdzJYhxm60",
      "include_colab_link": true
    },
    "kernelspec": {
      "name": "python3",
      "display_name": "Python 3"
    }
  },
  "cells": [
    {
      "cell_type": "markdown",
      "metadata": {
        "id": "view-in-github",
        "colab_type": "text"
      },
      "source": [
        "<a href=\"https://colab.research.google.com/github/bzznrc/Python-101/blob/master/5_Functions_Classes.ipynb\" target=\"_parent\"><img src=\"https://colab.research.google.com/assets/colab-badge.svg\" alt=\"Open In Colab\"/></a>"
      ]
    },
    {
      "cell_type": "markdown",
      "source": [
        "# Plot Twist 🙀\n",
        "We already used Functions and Objects (which are instances of Classes. Yes I will explain better)."
      ],
      "metadata": {
        "id": "ndOv-9iDOuWy"
      }
    },
    {
      "cell_type": "code",
      "metadata": {
        "id": "7idHqvT9BVpw"
      },
      "source": [
        "#This is a function\n",
        "print(\"Hey I'm the Print function :)\")\n",
        "\n",
        "#This is another function, with parameters and a return value\n",
        "import random\n",
        "r = random.randint(1,10)\n",
        "#Type is a built-in function that shows the type of a variable\n",
        "print(\"r is a: \", type (r) ) #r is an int\n",
        "\n",
        "#This is a function that returns an object (now)\n",
        "import datetime\n",
        "now = datetime.datetime.now()\n",
        "print(\"now is a: \", type (now) ) #now is an object of class \"datetime\"\n",
        "\n",
        "#And when we picked the year/month/day... from the object \"now\"\n",
        "#We were accessing its attributes (which are mostly of type int)\n",
        "print(\"now.year is a: \", type (now.year) )"
      ],
      "execution_count": null,
      "outputs": []
    },
    {
      "cell_type": "markdown",
      "metadata": {
        "id": "1RN-TfTV9B7y"
      },
      "source": [
        "# Glossary 📑\n",
        "This bit is quite technical... we need some new words:\n",
        "\n",
        "**Function**\n",
        "\n",
        "> An independent piece of code. We define it at the beginning and we can call it anytime. It can have *parameters* and a *return value*\n",
        "\n",
        "**Parameters**\n",
        "\n",
        "> Input values of a function, written within brackets when defining it. They can be as many as we want and they're optional\n",
        "\n",
        "**Return value**\n",
        "\n",
        "> The results that comes back from a function when it completes. It is optional\n",
        "\n",
        "**Class**\n",
        "\n",
        "> Blueprint for a complex structure that includes internal variables (called **attributes**) and internal functions (called **methods**)\n",
        "\n",
        "**Object**\n",
        "\n",
        "> The specific istance of a class. We can have as many objects as we want for a single class. E.g.: Class may be \"Person\", Objects may be \"Enrico\", \"Giulia\", \"Luca\"\n",
        "\n",
        "**Attribute**\n",
        "\n",
        "> A property of an object. It's like an internal variable of the object. E.g.: for an object of class \"Person\", we can have attributes \"name\", \"surname\", \"age\" etc.\n",
        "\n",
        "**Method**\n",
        "\n",
        "> An internal function of an object. It performs stuff based on the attributes of the object and/or based on external parameters. E.g.: for an object of class \"Person\" we can have functions \"say_hi()\", \"get_age()\" etc.\n"
      ]
    },
    {
      "cell_type": "markdown",
      "metadata": {
        "id": "dzsstXMS5GoG"
      },
      "source": [
        "# Function 🤖\n",
        "A [function](https://www.w3schools.com/python/python_functions.asp) is a block of code which only runs when it is called.\n",
        "\n",
        "We \"define\" the function just once -usually at the beginning- and then we \"call\" it whenever we need"
      ]
    },
    {
      "cell_type": "code",
      "metadata": {
        "id": "GUyuZQeN5AQV"
      },
      "source": [
        "#This statements gets executed but nothing happens visually\n",
        "#The say_hi() function now exists in the computer memory and we can call it\n",
        "def say_hi():\n",
        "  print(\"CIAO\")\n",
        "\n",
        "#This is the first thing we'll see in the output\n",
        "print(\"This is for TESTING\")\n",
        "\n",
        "#Now we're calling the say_hi() function and it'll print\n",
        "say_hi()"
      ],
      "execution_count": null,
      "outputs": []
    },
    {
      "cell_type": "markdown",
      "metadata": {
        "id": "ounTSJB17LAf"
      },
      "source": [
        "# Parameters 🔡\n",
        "You can pass data, known as parameters, into a function.\n",
        "\n",
        "We define the **parameters** needed by listing them within the brackets of the function, separated by commas.\n",
        "\n",
        "When calling the function, we'll provide the **arguments** that map to those parameters, in the same order the parameters were defined"
      ]
    },
    {
      "cell_type": "code",
      "metadata": {
        "id": "M91HUZwR5zy-"
      },
      "source": [
        "#The say_hi_name() function now has a name parameter\n",
        "\n",
        "#Function with parameters\n",
        "def say_hi_name(name):\n",
        "  print(\"CIAO\", name)\n",
        "\n",
        "#This is the first thing we'll see in the output\n",
        "print(\"This is for TESTING\")\n",
        "\n",
        "#Now we're calling the say_hi_name() function and it'll print a name of our choice\n",
        "say_hi_name(\"Raffaello\")"
      ],
      "execution_count": null,
      "outputs": []
    },
    {
      "cell_type": "markdown",
      "metadata": {
        "id": "o7Ykz0xq6X3Z"
      },
      "source": [
        "# Return 📦\n",
        "A function can return data as a result, using the command `return`"
      ]
    },
    {
      "cell_type": "code",
      "metadata": {
        "id": "AxX-mLjd6UXY"
      },
      "source": [
        "#This function has 2 parameters. We can define as many as we want\n",
        "def find_biggest(num1, num2):\n",
        "  if num1 >= num2:\n",
        "    return num1\n",
        "  else:\n",
        "    return num2\n",
        "\n",
        "#You can play with the inputs\n",
        "#You can also pass variables as inputs, they will be linked to num1 and num2\n",
        "#based on their order (e.g. the first variable will always called num1 inside the function)\n",
        "mag = find_biggest(2,5)\n",
        "print(\"Biggest value is : \", mag)"
      ],
      "execution_count": null,
      "outputs": []
    },
    {
      "cell_type": "code",
      "metadata": {
        "id": "yFOZ87zd70pK"
      },
      "source": [
        "#Did you really need this example? Naaah.\n",
        "#Did I really want to write this example? Yup.\n",
        "def mighty_triangle(num):\n",
        "  i = 0\n",
        "  while (i <= num):\n",
        "    print(\"*\" * i)\n",
        "    i = i + 1\n",
        "\n",
        "mighty_triangle(10)"
      ],
      "execution_count": null,
      "outputs": []
    },
    {
      "cell_type": "markdown",
      "metadata": {
        "id": "xoCSSRZt8Ozs"
      },
      "source": [
        "# Scopes 📷\n",
        "Each variable has a **scope**, the area in which it is visible.\n",
        "\n",
        "Variables declared outside of functions are visible within the functions, but the opposite is not true: if I create a variable within a function I can't use it outside.\n",
        "\n",
        "Anyway, the best approach is usually not reaching for variables in other scopes. If you need a value in a function, it's best to pass it as a parameter\n"
      ]
    },
    {
      "cell_type": "code",
      "metadata": {
        "id": "NqMt2DLyGEuL"
      },
      "source": [
        "def ugly_function():\n",
        "  print(a)\n",
        "\n",
        "a = 5\n",
        "ugly_function() #This works, but it's a terrible design"
      ],
      "execution_count": null,
      "outputs": []
    },
    {
      "cell_type": "code",
      "metadata": {
        "id": "ELh_QABzGbus"
      },
      "source": [
        "def uglier_function():\n",
        "  b = 3\n",
        "\n",
        "uglier_function()\n",
        "print(b) #This doesn't work because b is defined in the function's scope"
      ],
      "execution_count": null,
      "outputs": []
    },
    {
      "cell_type": "markdown",
      "metadata": {
        "id": "_-7dt-Lh8ojC"
      },
      "source": [
        "# Classes / Objects 🧱\n",
        "Python is an object oriented programming language.\n",
        "\n",
        "Almost everything in Python is an *object*, with its properties and methods.\n",
        "\n",
        "A [Class](https://www.w3schools.com/python/python_classes.asp) is like an object constructor, or a \"blueprint\" for creating objects.\n",
        "\n",
        "All classes have a function called __init__(), which is always executed when the class is being initiated.\n",
        "\n",
        "Use the __init__() function to assign values to object properties, or other operations that are necessary to do when the object is being created"
      ]
    },
    {
      "cell_type": "code",
      "metadata": {
        "id": "gbQmh9lF82SQ"
      },
      "source": [
        "#A class represents a \"concept\" in a program\n",
        "#and it has its variables (attributes) and its functions (methods)\n",
        "\n",
        "#In this case the class represents the concept of a \"person\"\n",
        "#We can then create many object from the class \"person\"\n",
        "#Each will represent a different person\n",
        "\n",
        "#Defining the Person class (its blueprint)\n",
        "class Person:\n",
        "  def __init__(self, name, age):\n",
        "    self.name = name #it has a name\n",
        "    self.age = age #it has an age\n",
        "    \n",
        "#Creating our first person\n",
        "p1 = Person(\"Enrico\", 28)\n",
        "\n",
        "print(p1.name)\n",
        "print(p1.age)"
      ],
      "execution_count": null,
      "outputs": []
    },
    {
      "cell_type": "code",
      "metadata": {
        "id": "Aaftv_fD9nli"
      },
      "source": [
        "#Same as before but this time the person also has a say_hello method\n",
        "class Person:\n",
        "  def __init__(self, name, age):\n",
        "    self.name = name\n",
        "    self.age = age\n",
        "\n",
        "  def say_hello(self):\n",
        "    print(\"Hello my name is\", self.name, \"and I'm\", self.age)\n",
        "\n",
        "#Creating two people \n",
        "p1 = Person(\"Enrico\", 28) #Well I was 28 when I built this Python course.\n",
        "p2 = Person(\"Giulia\", 30)\n",
        "p1.say_hello()\n",
        "p2.say_hello()"
      ],
      "execution_count": null,
      "outputs": []
    },
    {
      "cell_type": "markdown",
      "metadata": {
        "id": "1s2ETomr-XYF"
      },
      "source": [
        "# ES.1 - Adulting 👩👨\n",
        "Let's add a new method to our Person class. It will evaluate whether they're adult and return the result as a True/False boolean."
      ]
    },
    {
      "cell_type": "code",
      "metadata": {
        "id": "KcPYNzpZ-2u5"
      },
      "source": [
        ""
      ],
      "execution_count": null,
      "outputs": []
    },
    {
      "cell_type": "markdown",
      "metadata": {
        "id": "lK2HaZkl-7cP"
      },
      "source": [
        "# ES.2 - Lots of People 👩👨👩👨👩👨\n",
        "\n",
        "- Let's create an empty list of people.\n",
        "- Let's ask the user if they want to add a new person.\n",
        "- If they do, let's ask name and age and add them to our list\n",
        "- Then ask the user again and repeat the loop until they're ok\n",
        "- In the end, let's run the say_hello() methond for each person"
      ]
    },
    {
      "cell_type": "code",
      "metadata": {
        "id": "VBKfL-eR_QpD"
      },
      "source": [
        ""
      ],
      "execution_count": null,
      "outputs": []
    }
  ]
}