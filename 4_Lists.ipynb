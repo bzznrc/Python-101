{
  "nbformat": 4,
  "nbformat_minor": 0,
  "metadata": {
    "colab": {
      "name": "Copy of PythonCourse3.ipynb",
      "provenance": [],
      "toc_visible": true,
      "authorship_tag": "ABX9TyOv0VRAZ24F+KJXjtD0pis5",
      "include_colab_link": true
    },
    "kernelspec": {
      "name": "python3",
      "display_name": "Python 3"
    }
  },
  "cells": [
    {
      "cell_type": "markdown",
      "metadata": {
        "id": "view-in-github",
        "colab_type": "text"
      },
      "source": [
        "<a href=\"https://colab.research.google.com/github/bzznrc/Python-101/blob/master/4_Lists.ipynb\" target=\"_parent\"><img src=\"https://colab.research.google.com/assets/colab-badge.svg\" alt=\"Open In Colab\"/></a>"
      ]
    },
    {
      "cell_type": "markdown",
      "metadata": {
        "id": "imxgewS7U4V8"
      },
      "source": [
        "# Lists 📋\n",
        "\n",
        "-Lists are a collection of values\n",
        "\n",
        "-A list is comprised of the elements within the square brackets, separated by commas\n",
        "\n",
        "-Each element in the list is identified by its **position** and holds a **value**\n",
        "\n",
        "-You can get to an element value by specifying its position\n",
        "\n",
        "Also, remember every single time you had to count something, how you always start with 1? It makes sense, right? Forget that, we're counting from 0 (programmers are weird people)\n"
      ]
    },
    {
      "cell_type": "code",
      "metadata": {
        "id": "9M50_9UR1Ma6"
      },
      "source": [
        "#This is a list, note the square brackets and the commas separating each value\n",
        "my_list = [4,5,7,9,24]\n",
        "\n",
        "#Let's print the whole list\n",
        "print(\"Whole list: \", my_list)\n",
        "\n",
        "#Print the 3rd el. in my_list (it starts from 0)\n",
        "print(\"3rd element (my_list[2]): \", my_list[2])"
      ],
      "execution_count": null,
      "outputs": []
    },
    {
      "cell_type": "code",
      "source": [
        "#This is another list, made up by strings this time\n",
        "food_list = [\"sushi\", \"pizza\", \"burger\"]\n",
        "\n",
        "#Let's print the whole list\n",
        "print(\"Whole list: \", food_list)\n",
        "\n",
        "#Print the 1st el. in food_list (it starts from 0)\n",
        "print(\"1st element (food_list[0]): \", food_list[0])"
      ],
      "metadata": {
        "id": "10DnVva-5x4y"
      },
      "execution_count": null,
      "outputs": []
    },
    {
      "cell_type": "code",
      "metadata": {
        "id": "hpmC4JzrGjMB"
      },
      "source": [
        "#We can sum up lists' elements as if they were regular variables\n",
        "some_nice_movies = ['Vertigo', 'Birdman', 'Inception']\n",
        "some_other_nice_movies = ['Moonrise Kingdom', 'Hot Fuzz', 'Inside Out']\n",
        "\n",
        "lots_of_nice_movies = some_nice_movies + some_other_nice_movies\n",
        "\n",
        "print(lots_of_nice_movies)"
      ],
      "execution_count": null,
      "outputs": []
    },
    {
      "cell_type": "code",
      "metadata": {
        "id": "vTpNG-gRYec9"
      },
      "source": [
        "#\"in\" checks if an element is in the list and returns True/False\n",
        "\n",
        "print(\"Titanic\" in lots_of_nice_movies)\n",
        "print(\"Inception\" in lots_of_nice_movies)\n",
        "\n",
        "#We can use the in operator with conditions and loops! yayyy\n",
        "if \"Titanic\" not in lots_of_nice_movies:\n",
        "  print(\"Giusto\")\n",
        "  \n",
        "if \"Titanic\" in lots_of_nice_movies:\n",
        "  print(\"I beg to differ\")"
      ],
      "execution_count": null,
      "outputs": []
    },
    {
      "cell_type": "markdown",
      "metadata": {
        "id": "o5-nDW3N9cMT"
      },
      "source": [
        "# Remove & Append 🗑 📌\n",
        "\n",
        "**list.remove(value)**\n",
        "\n",
        "The remove() method removes the first occurrence of the element with the specified value.\n",
        "\n",
        "**list.append(value)**\n",
        "\n",
        "The append() method adds an element to the end of the list.\n",
        "\n"
      ]
    },
    {
      "cell_type": "code",
      "metadata": {
        "id": "bE8r-SKQuQ14"
      },
      "source": [
        "TMNT_list = [\"Leonardo\", \"Michelangelo\", \n",
        "            \"Donatello\", \"Bob\"]\n",
        "\n",
        "#Printing the list as is\n",
        "print(\"TMNT 1: \", TMNT_list)\n",
        "\n",
        "#Removing the wrong occurrence and printing\n",
        "TMNT_list.remove(\"Bob\")\n",
        "print(\"TMNT 2: \", TMNT_list)\n",
        "\n",
        "#Adding the right name and printing\n",
        "TMNT_list.append(\"Raffaello\")\n",
        "print(\"TMNT 3: \", TMNT_list)"
      ],
      "execution_count": null,
      "outputs": []
    },
    {
      "cell_type": "markdown",
      "metadata": {
        "id": "2PtMtzYH-Jfu"
      },
      "source": [
        "#For Loops ➰\n",
        "\n",
        "So we learnt loops already, but then we focused on *while* loops. Now we're looking at [**for** loops](https://www.w3schools.com/python/python_for_loops.asp), that do the same thing but are much friendlier to work with. They're also best buddies with *lists*. 🤜🤛\n",
        "\n",
        "A for loop is used for iterating over a sequence (that is either a list, a tuple, a dictionary, a set, or a string).\n",
        "\n",
        "The examples below show the same thing written with old fashioned while statement and then a for statement:"
      ]
    },
    {
      "cell_type": "code",
      "metadata": {
        "id": "7vCDuVx8-hdj"
      },
      "source": [
        "##This is the old way of doing this\n",
        "TMNT_list = [\"Leonardo\", \"Michelangelo\", \"Donatello\", \"Raffaello\"]\n",
        "\n",
        "#While my counter is less then the length of the list...\n",
        "i = 0 #counter\n",
        "while (i < len(TMNT_list)):\n",
        "    print(\"[WHILE] Hey I'm \", TMNT_list[i])\n",
        "    i = i + 1 #Incrementing the counter at every loop"
      ],
      "execution_count": null,
      "outputs": []
    },
    {
      "cell_type": "code",
      "metadata": {
        "id": "HT3LNYMkJV1G"
      },
      "source": [
        "##This is the cool way\n",
        "#This means: go through all the elements and assign the current one to a variable named \"ninja\"\n",
        "#This variable is a special one that the for requires in order to work\n",
        "for ninja in TMNT_list:\n",
        "    print(\"[FOR] Hey I'm \", ninja)"
      ],
      "execution_count": null,
      "outputs": []
    },
    {
      "cell_type": "code",
      "metadata": {
        "id": "RhKXvMazfzyr"
      },
      "source": [
        "#Looping a list while looping another list\n",
        "adj = [\"Mighty\", \"Cyber\", \"Below-Average\"]\n",
        "noun = [\"Plumber\", \"Corgi\", \"Pasty\"]\n",
        "\n",
        "for a in adj: #This will loop through the adjectives (x3)\n",
        "  #This will loop through the nouns (x3)\n",
        "  #And runs for each adjective loop (because of the code indentation)\n",
        "  for n in noun: \n",
        "    print(a, n) #This will print all the 9 combinations (3 adjectives times 3 nouns)"
      ],
      "execution_count": null,
      "outputs": []
    },
    {
      "cell_type": "markdown",
      "metadata": {
        "id": "hjGVKK9UDfK1"
      },
      "source": [
        "# List Shuffle 🔀\n",
        "\n",
        "Do you remember how amazing the random package was?\n",
        "\n",
        "Turns out it can shuffle your lists as well! Yuppi!"
      ]
    },
    {
      "cell_type": "code",
      "metadata": {
        "id": "xKTEADLQEDCN"
      },
      "source": [
        "import random\n",
        "\n",
        "teletubbies = ['Tinky Winky', 'Dipsy', 'Laa-Laa', 'Po']\n",
        "\n",
        "print(\"STRAIGHT\")\n",
        "for tlt in teletubbies:\n",
        "  print(tlt)\n",
        "\n",
        "#Now let's shuffle this\n",
        "random.shuffle(teletubbies) #This alters the list directly. You don't need to assign the result of the function\n",
        "\n",
        "print(\"\\nSHUFFLED\")\n",
        "for tlt in teletubbies:\n",
        "  print(tlt)"
      ],
      "execution_count": null,
      "outputs": []
    },
    {
      "cell_type": "markdown",
      "metadata": {
        "id": "v9PbRgtiFxT7"
      },
      "source": [
        "# Everything Else 🌌\n",
        "Ok so we've focused on lists and the for loops you can do with them. There are a few other ways to store multiple items into a single structure. Let's go quickly through them:\n",
        "\n",
        "- **[List](https://www.w3schools.com/python/python_lists.asp)** is a collection which is ordered and changeable. Allows duplicate members.\n",
        "\n",
        "- **[Tuple](https://www.w3schools.com/python/python_tuples.asp)** is a collection which is ordered and unchangeable. Allows duplicate members.\n",
        "\n",
        "- **[Set](https://www.w3schools.com/python/python_sets.asp)** is a collection which is unordered and unindexed. No duplicate members.\n",
        "\n",
        "- **[Dictionary](https://www.w3schools.com/python/python_dictionaries.asp)** is a collection which is unordered, changeable and indexed. No duplicate members."
      ]
    },
    {
      "cell_type": "code",
      "metadata": {
        "id": "JvPURpDdGFCI"
      },
      "source": [
        "#Lists\n",
        "thislist = [\"apple\", \"banana\", \"banana\"]\n",
        "print(thislist)\n",
        "\n",
        "#Tuples\n",
        "thistuple = (\"apple\", \"banana\", \"banana\")\n",
        "print(thistuple)\n",
        "\n",
        "#Sets\n",
        "thisset = {\"apple\", \"banana\", \"banana\"}\n",
        "print(thisset)\n",
        "\n",
        "#We'll look at the Dictionaries in a couple of cells"
      ],
      "execution_count": null,
      "outputs": []
    },
    {
      "cell_type": "markdown",
      "metadata": {
        "id": "muPe3DrwXCru"
      },
      "source": [
        "# Buon Compleanno! 🎂\n",
        "Ok this is a HUGE Nerd Alert.\n",
        "\n",
        "Let's pretend you have a big room and lots of random people. You make them get in one by one. How long until you get two people with the same birthday in the room?\n",
        "\n",
        "The problem is quite famous, and we're now solving it with a Monte-Carlo approach (which is a fancy way of saying, let's do an insane amount of trials and see how the results look like on average)."
      ]
    },
    {
      "cell_type": "code",
      "metadata": {
        "id": "yDNtJ-HCNQPR"
      },
      "source": [
        "import random\n",
        "#We need this library to draw plots\n",
        "import matplotlib.pyplot as plt\n",
        "\n",
        "#This is how many trials we're doing\n",
        "trials = 10000\n",
        "\n",
        "#This will hold the result for each of the trials\n",
        "results = []\n",
        "\n",
        "# Run experiments\n",
        "for experiment in range(trials):\n",
        "    \n",
        "    #On a new experiment, let's create a list of people\n",
        "    people = []\n",
        "    #Let's also create a set of people. The difference is, the set won't allow duplicates\n",
        "    people_set = set()\n",
        "    \n",
        "    # Create a while loop that continues as long as no two people have the same birthday\n",
        "    # By comparing the lenght of the list and the set, we're checking if two birthday pals have entered\n",
        "    while len(people) == len(people_set):\n",
        "        \n",
        "        # Generate a new person - which is identified by its birthday number\n",
        "        person = random.randint(1, 365)\n",
        "        # Add the person both to the list and the set\n",
        "        people_set.add(person)\n",
        "        people.append(person)\n",
        "\n",
        "    #If we're here, we got our birthday pals for this experiment! Adding the lenght of the people list to the results\n",
        "    results.append(len(people_set))\n",
        "    \n",
        "#If we're here, we finished with the experiments. Let's print the average length!\n",
        "print('Average number of people in the room: ', round(sum(results)/len(results), 4))\n",
        "\n",
        "#Let's draw a plot of the results\n",
        "plt.hist(results, bins=100)\n",
        "plt.show()"
      ],
      "execution_count": null,
      "outputs": []
    },
    {
      "cell_type": "markdown",
      "metadata": {
        "id": "fXZ3FvQOVbqk"
      },
      "source": [
        "# Dictionaries 📖\n",
        "Let's go in a bit more details with the **[dictionaries](https://www.w3schools.com/python/python_dictionaries.asp)**:\n",
        "\n",
        "- Dictionaries are collection of key/value pairs\n",
        "- You can get to a value by specifying its key\n",
        "- Both key and value can be strings (text) or numbers\n",
        "- They are super useful to do lots of things where the time performance in retrieving your values is important"
      ]
    },
    {
      "cell_type": "code",
      "metadata": {
        "id": "vxa4UtLBV-az"
      },
      "source": [
        "#Example of a Dict - The key is a string, the value is a number\n",
        "my_dict = {\"Baiocchi\": 100, \"Tarallucci\": 25, \"Gocciole\": 80}\n",
        "\n",
        "#Print the value for \"Tarallucci\"\n",
        "print(my_dict[\"Tarallucci\"])"
      ],
      "execution_count": null,
      "outputs": []
    },
    {
      "cell_type": "code",
      "source": [
        "#Another Dict - Both key and values are strings this time\n",
        "fav_food = {\"Italy\": \"pizza\", \n",
        "            \"Japan\": \"sushi\",\n",
        "            \"USA\": \"burger\"}\n",
        "            \n",
        "#Print the value for \"USA\"\n",
        "print(fav_food[\"USA\"])"
      ],
      "metadata": {
        "id": "v_gohAlZEuZ_"
      },
      "execution_count": null,
      "outputs": []
    },
    {
      "cell_type": "markdown",
      "metadata": {
        "id": "xRcFDHypVwOJ"
      },
      "source": [
        "# ES. 1.1 - Kitchen Management 👩‍🍳\n",
        "Let's write a bit of logic to manage the ingredients in a kitchen.\n",
        "As this is a bit of a long one, we'll split it into three blocks.\n",
        "\n",
        "This initial bit of code is required to initialize the ingredients:\n",
        "- We'll ask the user to provide us with the ingredients, one by one\n",
        "- We don't know how many ingredients we'll have (so we'll *while* this one)"
      ]
    },
    {
      "cell_type": "code",
      "metadata": {
        "id": "8JAqsOS1u4aq"
      },
      "source": [
        "ing = []\n",
        "\n",
        "while (input(\"Wanna give me an ingredient? \") != \"no\"): #Keep going until they type \"no\"\n",
        "\n",
        "  ing.append(input(\"What's the ingredient? \")) #Adding the new ingredient\n",
        "\n",
        "print(\"The list looks like this: \", ing) #Printing the list - Outside of the loop"
      ],
      "execution_count": null,
      "outputs": []
    },
    {
      "cell_type": "markdown",
      "metadata": {
        "id": "An1We6iJu6Dn"
      },
      "source": [
        "# ES. 1.2 - Kitchen Management 👨‍🍳\n",
        "- Let's now ask the user which ingredients they used, one at a time\n",
        "- Let's remove that ingredient from the list (if it's there)\n",
        "- At the end, let's print the updated list"
      ]
    },
    {
      "cell_type": "code",
      "metadata": {
        "id": "gqF3eoXcxFxc"
      },
      "source": [
        "# Code goes here"
      ],
      "execution_count": null,
      "outputs": []
    },
    {
      "cell_type": "markdown",
      "metadata": {
        "id": "o5NI7UVxx642"
      },
      "source": [
        "# ES. 1.3 - Kitchen Management 🍳\n",
        "\n",
        "The user has now gone to do some grocery shopping\n",
        "\n",
        "- Let's ask them wich new ingredients they bought, one at a time\n",
        "- Let's check if that ingredient was present already. If it wasn't, let's add it"
      ]
    },
    {
      "cell_type": "code",
      "metadata": {
        "id": "JLNkpVkj1ZEP"
      },
      "source": [
        "# Code goes here"
      ],
      "execution_count": null,
      "outputs": []
    },
    {
      "cell_type": "markdown",
      "source": [
        "# ES. 2 - Better Kitchen Management 👩‍🍳👨‍🍳🍳\n",
        "Let's rewrite the previous three code blocks, but with a **dictionary** instead of a *list*.\n",
        "\n",
        "The dictionary will have the ingredients as keys and the quantities as values. This way, you can have more than one of each. \n",
        "\n",
        "This sounds like a better idea."
      ],
      "metadata": {
        "id": "NJpZCMCaIeUK"
      }
    },
    {
      "cell_type": "code",
      "source": [
        "# Better code goes here"
      ],
      "metadata": {
        "id": "cOaaE1SvJNZQ"
      },
      "execution_count": null,
      "outputs": []
    }
  ]
}