{
  "nbformat": 4,
  "nbformat_minor": 0,
  "metadata": {
    "colab": {
      "name": "Copy of PythonCourse3.ipynb",
      "provenance": [],
      "authorship_tag": "ABX9TyOUy4qEzgx7kY8biadQ6xld",
      "include_colab_link": true
    },
    "kernelspec": {
      "name": "python3",
      "display_name": "Python 3"
    }
  },
  "cells": [
    {
      "cell_type": "markdown",
      "metadata": {
        "id": "view-in-github",
        "colab_type": "text"
      },
      "source": [
        "<a href=\"https://colab.research.google.com/github/bzznrc/Python-101/blob/master/4_Liste.ipynb\" target=\"_parent\"><img src=\"https://colab.research.google.com/assets/colab-badge.svg\" alt=\"Open In Colab\"/></a>"
      ]
    },
    {
      "cell_type": "markdown",
      "metadata": {
        "id": "kzfcasc_zyql"
      },
      "source": [
        "# While capito == False: Recap\n",
        "Un ciclo deve avere:\n",
        "\n",
        "-Una condizione che -se vera- ci fa ripetere la logica\n",
        "\n",
        "> Nell'esempio, num <= num_max. Finché num sará minore o uguale di num_max, eseguiró quello che é dentro il ciclo\n",
        "\n",
        "-Una varabile che ne controlla il flusso (se il ciclo serve per validare un input, sará l'input stesso)\n",
        "\n",
        "> Nell'esempio, num (che poi aumenterá)\n",
        "\n",
        "-Dentro al ciclo ci dev'essere il modo per cambiare gli elementi che ne determinano l'esecuzione\n",
        "\n",
        "> Che significa: se eseguo finché num <= num_max ma poi non aumento mai num, quello rimarrá sempre piú piccolo di num_max e il ciclo sará infinito. In questo caso devo incrementare num in ogni ciclo. In altri cicli che dipendono dagli input, devo richiedere un nuovo input entro ogni ciclo, etc...\n",
        "\n",
        "\n",
        "\n"
      ]
    },
    {
      "cell_type": "code",
      "metadata": {
        "id": "4MoI7NySzuNm"
      },
      "source": [
        "num = 1\n",
        "num_max = int (input(\"Dimmi il numero max:\"))\n",
        "\n",
        "while num <= num_max:\n",
        "  #TODO: Aggiungiamo una print in caso di numero pari\n",
        "\n",
        "  #TODO: Poi una print in caso di multiplo di 3\n",
        "\n",
        "  #TODO: Poi un bel sticazzi per gli altri casi\n",
        "\n",
        "  num = num + 1\n",
        "\n",
        "print(\"Sono arrivato a \", num_max)"
      ],
      "execution_count": null,
      "outputs": []
    },
    {
      "cell_type": "markdown",
      "metadata": {
        "id": "imxgewS7U4V8"
      },
      "source": [
        "# Liste\n",
        "In inglese perché si.\n",
        "\n",
        "-Lists are a collection of values\n",
        "\n",
        "-A list is comprised of the elements within the square brackets, separated by commas\n",
        "\n",
        "-Each element in the list is identified by its **position** and holds a **value**\n",
        "\n",
        "-You can get to an element value by specifying its position (starting from 0 because programmers are nasty people)\n"
      ]
    },
    {
      "cell_type": "code",
      "metadata": {
        "id": "9M50_9UR1Ma6"
      },
      "source": [
        "my_list = [4,5,7,9,24]\n",
        "#Print the 3rd el. in my_list (it starts from 0)\n",
        "print(my_list[2])\n",
        "\n",
        "food_list = [\"sushi\", \"pizza\", \"burger\"]\n",
        "#Print the 1st el. in food_list (it starts from 0)\n",
        "print(food_list[0])"
      ],
      "execution_count": null,
      "outputs": []
    },
    {
      "cell_type": "code",
      "metadata": {
        "id": "hpmC4JzrGjMB"
      },
      "source": [
        "#We can sum up lists' elements\n",
        "film_belli = ['Vertigo', 'Birdman', 'Inception']\n",
        "altri_film_belli = ['Moonrise Kingdom', 'Hot Fuzz', 'Inside Out']\n",
        "\n",
        "tutti_film_belli = film_belli + altri_film_belli\n",
        "\n",
        "print(tutti_film_belli)"
      ],
      "execution_count": null,
      "outputs": []
    },
    {
      "cell_type": "code",
      "metadata": {
        "id": "vTpNG-gRYec9"
      },
      "source": [
        "#\"in\" checks if an element is in the list and returns True/False\n",
        "\n",
        "print(\"Titanic\" in tutti_film_belli)\n",
        "print(\"Inception\" in tutti_film_belli)\n",
        "\n",
        "#We can use the in operator with conditions and loops! yayyy\n",
        "if \"Titanic\" not in tutti_film_belli:\n",
        "  print(\"Giusto\")\n",
        "\n",
        "if \"Titanic\" in tutti_film_belli:\n",
        "  print(\"Vergogna\")"
      ],
      "execution_count": null,
      "outputs": []
    },
    {
      "cell_type": "markdown",
      "metadata": {
        "id": "o5-nDW3N9cMT"
      },
      "source": [
        "# Remove e Append\n",
        "\n",
        "**list.remove(value)**\n",
        "\n",
        "The remove() method removes the first occurrence of the element with the specified value.\n",
        "\n",
        "**list.append(value)**\n",
        "\n",
        "The append() method adds an element to the end of the list.\n",
        "\n"
      ]
    },
    {
      "cell_type": "code",
      "metadata": {
        "id": "bE8r-SKQuQ14"
      },
      "source": [
        "TMNT_list = [\"Leonardo\", \"Michelangelo\", \n",
        "            \"Donatello\", \"Gianfranco\"]\n",
        "\n",
        "print(\"TMNT 1: \", TMNT_list)\n",
        "TMNT_list.remove(\"Gianfranco\")\n",
        "print(\"TMNT 2: \", TMNT_list)\n",
        "TMNT_list.append(\"Raffaello\")\n",
        "print(\"TMNT 3: \", TMNT_list)"
      ],
      "execution_count": null,
      "outputs": []
    },
    {
      "cell_type": "markdown",
      "metadata": {
        "id": "2PtMtzYH-Jfu"
      },
      "source": [
        "#Cicli For\n",
        "\n",
        "A for loop is used for iterating over a sequence (that is either a list, a tuple, a dictionary, a set, or a string).\n",
        "\n",
        "On each loop it assigns the current value of the list to the variable specified (“ninja” in the example)\n",
        "\n",
        "https://www.w3schools.com/python/python_for_loops.asp\n",
        "\n"
      ]
    },
    {
      "cell_type": "code",
      "metadata": {
        "id": "7vCDuVx8-hdj"
      },
      "source": [
        "TMNT_list = [\"Leonardo\", \"Michelangelo\", \"Donatello\", \"Raffaello\"]\n",
        "\n",
        "##This is the old way of doing this\n",
        "#Returns the length of the list\n",
        "TMNT_len = len(TMNT_list)\n",
        "#print(TMNT_len)\n",
        "i = 0 #counter\n",
        "while (i < TMNT_len):\n",
        "    print(\"[WHILE]  Ciao sono\", TMNT_list[i])\n",
        "    i = i + 1 #incrementing the counter"
      ],
      "execution_count": null,
      "outputs": []
    },
    {
      "cell_type": "code",
      "metadata": {
        "id": "HT3LNYMkJV1G"
      },
      "source": [
        "##This is the cool way\n",
        "#You create a variable (\"ninja\") which holds every value of the TMNT_list\n",
        "#One at a time. In the end, if you try to print \"ninja\"\n",
        "#it'll still be \"Raffaello\" (the last element)\n",
        "for ninja in TMNT_list:\n",
        "    print(\"[FOR]    Ciao sono\", ninja)"
      ],
      "execution_count": null,
      "outputs": []
    },
    {
      "cell_type": "code",
      "metadata": {
        "id": "wLsIFIXvXh04"
      },
      "source": [
        "TMNT_list = [\"Leonardo\", \"Michelangelo\", \n",
        "            \"Donatello\", \"Raffaello\"]\n",
        "\n",
        "#Looping on elements\n",
        "for ninja in TMNT_list:\n",
        "  print(ninja)\n",
        "\n",
        "#Looping on indexes\n",
        "#This is sort of a hybrid between a while and a for\n",
        "#It's cool but quite complex. I would stick either with the standard while or for\n",
        "for i in range(len(TMNT_list)):\n",
        "  print(TMNT_list[i])"
      ],
      "execution_count": null,
      "outputs": []
    },
    {
      "cell_type": "code",
      "metadata": {
        "id": "RhKXvMazfzyr"
      },
      "source": [
        "#Looping a list while looping another list\n",
        "adj = [\"Mighty\", \"Cyber\", \"Below-Average\"]\n",
        "noun = [\"Plumber\", \"Corgi\", \"Skunk\"]\n",
        "\n",
        "for a in adj:\n",
        "  for n in noun:\n",
        "    print(a, n)"
      ],
      "execution_count": null,
      "outputs": []
    },
    {
      "cell_type": "markdown",
      "metadata": {
        "id": "hjGVKK9UDfK1"
      },
      "source": [
        "# List Shuffle\n",
        "\n",
        "Do you remember the amazing random package?\n",
        "\n",
        "Turns out it can shuffle your lists as well! Yuppi!"
      ]
    },
    {
      "cell_type": "code",
      "metadata": {
        "id": "xKTEADLQEDCN"
      },
      "source": [
        "import random\n",
        "\n",
        "teletubbies = ['Tinky Winky', 'Dipsy', 'Laa-Laa', 'Po']\n",
        "\n",
        "print(\"STRAIGHT\")\n",
        "for tlt in teletubbies:\n",
        "  print(tlt)\n",
        "\n",
        "#Now let's shuffle this\n",
        "\n",
        "random.shuffle(teletubbies) #This alters the list directly. You don't need to assign the result of the function\n",
        "\n",
        "print(\"\\nSHUFFLED\")\n",
        "for tlt in teletubbies:\n",
        "  print(tlt)"
      ],
      "execution_count": null,
      "outputs": []
    },
    {
      "cell_type": "markdown",
      "metadata": {
        "id": "v9PbRgtiFxT7"
      },
      "source": [
        "# Everything Else\n",
        "\n",
        "**List** is a collection which is ordered and changeable. Allows duplicate members.\n",
        "\n",
        "**Tuple** is a collection which is ordered and unchangeable. Allows duplicate members.\n",
        "\n",
        "**Set** is a collection which is unordered and unindexed. No duplicate members.\n",
        "\n",
        "**Dictionary** is a collection which is unordered, changeable and indexed. No duplicate members."
      ]
    },
    {
      "cell_type": "code",
      "metadata": {
        "id": "JvPURpDdGFCI"
      },
      "source": [
        "#https://www.w3schools.com/python/python_lists.asp\n",
        "thislist = [\"apple\", \"banana\", \"banana\"]\n",
        "print(thislist)\n",
        "\n",
        "#https://www.w3schools.com/python/python_tuples.asp\n",
        "thistuple = (\"apple\", \"banana\", \"banana\")\n",
        "print(thistuple)\n",
        "\n",
        "#https://www.w3schools.com/python/python_sets.asp\n",
        "thisset = {\"apple\", \"banana\", \"banana\"}\n",
        "print(thisset)"
      ],
      "execution_count": null,
      "outputs": []
    },
    {
      "cell_type": "markdown",
      "metadata": {
        "id": "muPe3DrwXCru"
      },
      "source": [
        "# Compleanno!\n",
        "Quante persone possono entrare in una stanza prima che almeno due compiano gli anni lo stesso giorno?"
      ]
    },
    {
      "cell_type": "code",
      "metadata": {
        "id": "yDNtJ-HCNQPR"
      },
      "source": [
        "import random\n",
        "import matplotlib.pyplot as plt\n",
        "\n",
        "results = []\n",
        "\n",
        "# Run experiments\n",
        "for experiment in range(100000):\n",
        "    \n",
        "    people = []\n",
        "    people_set = set()\n",
        "    \n",
        "    # Create a while loop that continues as long as no two people have the same birthday\n",
        "    while len(people) == len(people_set):\n",
        "        \n",
        "        # Add person with birthday \n",
        "        person = random.randint(1, 365)\n",
        "        people_set.add(person)\n",
        "        people.append(person)\n",
        "\n",
        "    results.append(len(people_set))\n",
        "    \n",
        "print('Average number of people in the room: ', round(sum(results)/len(results), 4))\n",
        "\n",
        "plt.hist(results, bins=100)\n",
        "plt.show()"
      ],
      "execution_count": null,
      "outputs": []
    },
    {
      "cell_type": "markdown",
      "metadata": {
        "id": "fXZ3FvQOVbqk"
      },
      "source": [
        "# Dizionari\n",
        "Dictionaries are collection of key/value pairs\n",
        "\n",
        "You can get to a value by specifying its key\n",
        "\n",
        "Both key and value can be strings (text) or numbers\n",
        "\n",
        "\n"
      ]
    },
    {
      "cell_type": "code",
      "metadata": {
        "id": "vxa4UtLBV-az"
      },
      "source": [
        "#I Dicitionaries sono parecchio complessi, se volete approfondire\n",
        "#https://www.w3schools.com/python/python_dictionaries.asp\n",
        "\n",
        "## DICTIONARIES ##\n",
        "my_dict = {\"Bazza\": 4, \"Omar\": 3, \"Gabo\": 2}\n",
        "#Print the value for \"Bazza\"\n",
        "print(my_dict[\"Bazza\"])\n",
        "\n",
        "fav_food = {\"Italy\": \"pizza\", \n",
        "            \"Japan\": \"sushi\", \n",
        "            \"USA\": \"burger\"}\n",
        "#Print the value for \"USA\"\n",
        "print(fav_food[\"USA\"])"
      ],
      "execution_count": null,
      "outputs": []
    },
    {
      "cell_type": "markdown",
      "metadata": {
        "id": "xRcFDHypVwOJ"
      },
      "source": [
        "# ES. 1\n",
        "Scriviamo una logica per la gestione degli ingredienti in una cucina.\n",
        "\n",
        "Questo pezzo di codice ci serve per inizializzare gli ingredienti\n",
        "\n",
        "-Chiediamo all'utente di scrivere gli ingredienti che ha, uno per volta\n",
        "\n",
        "NB: Inizialmente, non sappiamo quanti ingredienti ci dará"
      ]
    },
    {
      "cell_type": "code",
      "metadata": {
        "id": "8JAqsOS1u4aq"
      },
      "source": [
        "ing = []\n",
        "\n",
        "scelta = \"si\"\n",
        "\n",
        "while (scelta != \"no\"): #Continuo finché la scelta non é \"no\"\n",
        "\n",
        "  ing_input = input(\"Dammi un ingrediente: \")\n",
        "  ing.append(ing_input) #aggiungo il nuovo elemento alla lista ing\n",
        "\n",
        "  scelta = input(\"Vuoi continuare? \")\n",
        "\n",
        "print(\"La lista é: \", ing) #Fuori dal ciclo, stampo la lista"
      ],
      "execution_count": null,
      "outputs": []
    },
    {
      "cell_type": "markdown",
      "metadata": {
        "id": "An1We6iJu6Dn"
      },
      "source": [
        "# ES. 2\n",
        "Questo pezzo di codice ci serve per rimuovere ingredienti, quando finiscono\n",
        "\n",
        "-Chiediamo all'utente di scriverci quali ingredienti ha usato, uno per volta\n",
        "\n",
        "-Rimuoviamo quell'ingrediente dalla lista degli ingredienti\n",
        "\n",
        "NB: Inizialmente, non sappiamo quanti ingredienti vorrá rimuovere"
      ]
    },
    {
      "cell_type": "code",
      "metadata": {
        "id": "gqF3eoXcxFxc"
      },
      "source": [
        ""
      ],
      "execution_count": null,
      "outputs": []
    },
    {
      "cell_type": "markdown",
      "metadata": {
        "id": "o5NI7UVxx642"
      },
      "source": [
        "# ES. 3\n",
        "Questo pezzo di codice ci serve per aggiungere ingredienti, dopo la spesa\n",
        "\n",
        "-Chiediamo all'utente di scriverci quali ingredienti ha comprato, uno per volta\n",
        "\n",
        "-Controlliamo se quell'ingrediente era giá presente\n",
        "\n",
        "> Se si, insultiamo l'utente\n",
        "\n",
        "> Se no, aggiungiamo quell'ingrediente dalla lista degli ingredienti\n",
        "\n",
        "NB: Inizialmente, non sappiamo quanti ingredienti vorrá aggiungere"
      ]
    },
    {
      "cell_type": "code",
      "metadata": {
        "id": "JLNkpVkj1ZEP"
      },
      "source": [
        ""
      ],
      "execution_count": null,
      "outputs": []
    }
  ]
}