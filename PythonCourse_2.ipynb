{
  "nbformat": 4,
  "nbformat_minor": 0,
  "metadata": {
    "colab": {
      "name": "Python_2.ipynb",
      "provenance": [],
      "authorship_tag": "ABX9TyOBmn91w2hfSJpwV7OGOwf7"
    },
    "kernelspec": {
      "name": "python3",
      "display_name": "Python 3"
    }
  },
  "cells": [
    {
      "cell_type": "markdown",
      "metadata": {
        "id": "RPbLbpFnwYCj",
        "colab_type": "text"
      },
      "source": [
        "# 0 - Recap Rapidino\n",
        "Un valore ottenuto tramite la funzione input() é considerato di default come testo.\n",
        "\n",
        "Nell'esempio sotto, immaginando che l'input sia 20, se non scrivessi int(c), la somma sarebbe 5+10+'20'. Avrei quindi un errore perché starei sommando numeri e parole.\n",
        "\n",
        "Per far funzionare sta cosa, devo usare un **cast**, ovvero specificare a Python che una variabile va interpretata come un tipo di dato in particolare.\n",
        "\n",
        "Speravo di evitare sta minchiatina ma tant'é."
      ]
    },
    {
      "cell_type": "code",
      "metadata": {
        "id": "yt77wOvCv7KZ",
        "colab_type": "code",
        "colab": {}
      },
      "source": [
        "a = 5\n",
        "b = 10\n",
        "\n",
        "print(\"Somma: \", a+b)\n",
        "\n",
        "c = input(\"dammi un altro numero:\")\n",
        "\n",
        "print (\"Somma nuova: \", a+b+int(c))"
      ],
      "execution_count": null,
      "outputs": []
    },
    {
      "cell_type": "markdown",
      "metadata": {
        "id": "wQ0BjX_tyJNr",
        "colab_type": "text"
      },
      "source": [
        "# 1 - Condizioni\n",
        "eh. aaahhh. eeeeeeeehhhhhh."
      ]
    },
    {
      "cell_type": "code",
      "metadata": {
        "id": "zmTCbQnqyXBz",
        "colab_type": "code",
        "colab": {}
      },
      "source": [
        "print(\"Ehi, ciao, sai, non so come dire, ti ho notata per la lucentezza del riflesso della luna nei tuoi occhi. Quanti anni hai?\")\n",
        "anni = input(\"Ciao, ho esattamente i seguenti anni: \")\n",
        "\n",
        "if (anni < 18):\n",
        "  print(\"ALERT! CODE RED! WOWOWOWOWOWOWOWUUUUUUUUUHHHHH hehehehehe ho da fare ciao!\")\n",
        "else:\n",
        "  print(\"Risposta esatta. Eccoti un Gingerito\")"
      ],
      "execution_count": null,
      "outputs": []
    },
    {
      "cell_type": "code",
      "metadata": {
        "id": "ZdPojpXmzqDf",
        "colab_type": "code",
        "colab": {}
      },
      "source": [
        "print(\"Ehi, ciao, sai, non so come dire, ti ho notata per la lucentezza del riflesso della luna nei tuoi occhi. Come ti chiami?\")\n",
        "nome = input(\"Ciao, mi chiamo: \")\n",
        "\n",
        "if (nome == \"Giorgio\"):\n",
        "  print(\"ALERT! CODE RED! WOWOWOWOWOWOWOWUUUUUUUUUHHHHH hehehehehe ho da fare ciao!\")\n",
        "#Questo é un pó complesso ma significa \"se la variabile nome fininsce con la lettera \"o\"\" \n",
        "#E sto coso verde invece é un commento. Cioé roba che posso scrivere nel codice ma viene ignorata da Python\n",
        "elif (nome[-1] == 'o'):\n",
        "  print(\"Eeehhhh si é fatta na certa, ci si vede alla prossima!\")\n",
        "else:\n",
        "  print(\"Risposta esatta. Eccoti un Gingerito\")"
      ],
      "execution_count": null,
      "outputs": []
    },
    {
      "cell_type": "markdown",
      "metadata": {
        "id": "9HHs2G6EEWSy",
        "colab_type": "text"
      },
      "source": [
        "# 2 - Piú Condizioni\n",
        "Impariamo le variabili booleane con Paolo Meneguzzi!"
      ]
    },
    {
      "cell_type": "code",
      "metadata": {
        "id": "2HIcBmgmEesP",
        "colab_type": "code",
        "colab": {}
      },
      "source": [
        "#Could be True or False\n",
        "a = \n",
        "b = \n",
        "c = \n",
        "d = \n",
        "e = \n",
        "\n",
        "if (a):\n",
        "  print(\"VERO\")\n",
        "else:\n",
        "  print(\"FALSO\")\n",
        "\n",
        "print(\"che sei la sola\")\n",
        "\n",
        "if (b):\n",
        "  print(\"VERO\")\n",
        "else:\n",
        "  print(\"FALSO\")\n",
        "\n",
        "print(\"che ti ho ingannata\")\n",
        "\n",
        "if (c):\n",
        "  print(\"VERO\")\n",
        "else:\n",
        "  print(\"FALSO\")\n",
        "\n",
        "print(\"é stato un gioco\")\n",
        "\n",
        "if (d):\n",
        "  print(\"VERO\")\n",
        "else:\n",
        "  print(\"FALSO\")\n",
        "\n",
        "print(\"Io lí non c'ero\")\n",
        "\n",
        "if (e):\n",
        "  print(\"VERO\")\n",
        "else:\n",
        "  print(\"FALSO\")"
      ],
      "execution_count": null,
      "outputs": []
    },
    {
      "cell_type": "markdown",
      "metadata": {
        "id": "wtHcUwzWHfof",
        "colab_type": "text"
      },
      "source": [
        "# 3 - Random\n",
        "Drinking game!"
      ]
    },
    {
      "cell_type": "code",
      "metadata": {
        "id": "S0OCdwdJHsBJ",
        "colab_type": "code",
        "colab": {}
      },
      "source": [
        "import random\n",
        "n_min = 1\n",
        "n_max = 10\n",
        "\n",
        "ran = random.randint(n_min, n_max)\n",
        "\n",
        "print(ran)\n",
        "\n",
        "if (ran < 5):                                 #n_max/2 #(n_max-n_min)/2\n",
        "  print(\"Nada!\")\n",
        "elif (ran >= 5 and ran != 10):                #n_max/2 #n_max\n",
        "  print(\"Bevi uno shot!\")\n",
        "elif (ran == 10):                             #n_max\n",
        "  print(\"BEVI TRE SHOTS! MUAHAHA!\")"
      ],
      "execution_count": null,
      "outputs": []
    },
    {
      "cell_type": "markdown",
      "metadata": {
        "id": "LWU_GYV2P44O",
        "colab_type": "text"
      },
      "source": [
        "GDR Brutto (poi diventerá bello)"
      ]
    },
    {
      "cell_type": "code",
      "metadata": {
        "id": "fMGeIuD1QCGJ",
        "colab_type": "code",
        "colab": {}
      },
      "source": [
        "import random\n",
        "\n",
        "#Assegnamenti PG - 12pts\n",
        "n_points = 12\n",
        "pg_atk = int(input(\"ATK? \"))\n",
        "pg_def = int(input(\"DEF? \"))\n",
        "pg_spd = int(input(\"SPD? \"))\n",
        "\n",
        "if (pg_atk + pg_def <= n_points):\n",
        "\n",
        "#Assegnamenti enemy\n",
        "  enemy_name = ''\n",
        "  enemy_atk = 0\n",
        "  enemy_def = 0\n",
        "  enemy_spd = 0\n",
        "\n",
        "  n_ran = random.randint(1,3)\n",
        "  if (n_ran == 1):\n",
        "    enemy_name = \"Armaroli\"\n",
        "    enemy_atk = 5\n",
        "    enemy_def = 3\n",
        "    enemy_spd = 4\n",
        "  elif (n_ran == 2):\n",
        "    enemy_name = \"Marchignoni\"\n",
        "    enemy_atk = 3\n",
        "    enemy_def = 9\n",
        "    enemy_spd = 0\n",
        "  elif (n_ran == 3):\n",
        "    enemy_name = \"Marcheselli\"\n",
        "    enemy_atk = 5\n",
        "    enemy_def = 5\n",
        "    enemy_spd = 2\n",
        "\n",
        "  print(\"Oh no! un mostro! Sembra proprio un esemplare di\", enemy_name)\n",
        "  print(\"ATK:\", enemy_atk, \"DEF:\", enemy_def, \"SPD:\", enemy_spd)\n",
        "\n",
        "#Combattimento\n",
        "  if (pg_spd > enemy_spd):\n",
        "    if (pg_atk >= enemy_def):\n",
        "      print(\"Hai sconfitto\", enemy_name)\n",
        "    elif (enemy_atk >= pg_def):\n",
        "      print(enemy_name, \"ti ha sconfitto!\")  \n",
        "  else:\n",
        "    if (enemy_atk >= pg_def):\n",
        "      print(enemy_name, \"ti ha sconfitto!\") \n",
        "    elif (pg_atk >= enemy_def):\n",
        "      print(\"Hai sconfitto\", enemy_name)\n",
        "\n",
        "else:\n",
        "  print(\"CHEAT!\")"
      ],
      "execution_count": null,
      "outputs": []
    }
  ]
}
