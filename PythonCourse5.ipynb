{
  "nbformat": 4,
  "nbformat_minor": 0,
  "metadata": {
    "colab": {
      "name": "PythonCourse_5.ipynb",
      "provenance": [],
      "authorship_tag": "ABX9TyMf2gJGaDHJJQ95INEnBOGv",
      "include_colab_link": true
    },
    "kernelspec": {
      "name": "python3",
      "display_name": "Python 3"
    }
  },
  "cells": [
    {
      "cell_type": "markdown",
      "metadata": {
        "id": "view-in-github",
        "colab_type": "text"
      },
      "source": [
        "<a href=\"https://colab.research.google.com/github/bzznrc/PythonCourse/blob/master/PythonCourse5.ipynb\" target=\"_parent\"><img src=\"https://colab.research.google.com/assets/colab-badge.svg\" alt=\"Open In Colab\"/></a>"
      ]
    },
    {
      "cell_type": "markdown",
      "metadata": {
        "id": "dzsstXMS5GoG"
      },
      "source": [
        "# Function\n",
        "A function is a block of code which only runs when it is called.\n",
        "\n",
        "You can pass data, known as parameters, into a function.\n",
        "\n",
        "A function can return data as a result.\n",
        "\n",
        "https://www.w3schools.com/python/python_functions.asp"
      ]
    },
    {
      "cell_type": "code",
      "metadata": {
        "id": "GUyuZQeN5AQV"
      },
      "source": [
        "def saluta():\n",
        "  print(\"CIAO\")\n",
        "\n",
        "#Il programma comincia qui\n",
        "print(\"Comincio\")\n",
        "#Qui chiamo la funzione \"saluta\"\n",
        "saluta()"
      ],
      "execution_count": null,
      "outputs": []
    },
    {
      "cell_type": "markdown",
      "metadata": {
        "id": "ounTSJB17LAf"
      },
      "source": [
        "Per richiedere dei parametri, specifichiamo il nome che il parametro avrá all'interno della nostra funzione tra le parentesi.\n",
        "\n",
        "Nel momento in cui chiamo la funzione, gli passeró il valore di quel parametro (\"Marcus\" in questo caso). Quel valore sará utilizzabile dentro la funzione con il nome del suo parametro (\"nome\" in questo caso)."
      ]
    },
    {
      "cell_type": "code",
      "metadata": {
        "id": "M91HUZwR5zy-"
      },
      "source": [
        "#Funzione con parametri\n",
        "def salutaNome(nome):\n",
        "  print(\"CIAO\", nome)\n",
        "\n",
        "#Il programma comincia qui\n",
        "print(\"Comincio\")\n",
        "#Qui chiamo la funzione \"saluta\"\n",
        "salutaNome(\"Marcus\")"
      ],
      "execution_count": null,
      "outputs": []
    },
    {
      "cell_type": "markdown",
      "metadata": {
        "id": "o7Ykz0xq6X3Z"
      },
      "source": [
        "Nell'esempio seguente scriviamo una funzione che restituisce un valore (i due esempi sopra non restituiscono un valore, semplicemente stampano una stringa)\n",
        "\n",
        "Per restituire un valore si usa il comando \"return\""
      ]
    },
    {
      "cell_type": "code",
      "metadata": {
        "id": "AxX-mLjd6UXY"
      },
      "source": [
        "#Questa funzione ha due parametri, chiamati num1 e num2\n",
        "#Posso avere infiniti parametrim, in teoria\n",
        "def trovaMaggiore(num1, num2):\n",
        "  if num1 >= num2:\n",
        "    return num1\n",
        "  else:\n",
        "    return num2\n",
        "\n",
        "#Il programma comincia qui\n",
        "print(\"Comincio\")\n",
        "\n",
        "a = 2\n",
        "b = 5\n",
        "\n",
        "print(\"Il valore piú grande é : \", trovaMaggiore(a,b))"
      ],
      "execution_count": null,
      "outputs": []
    },
    {
      "cell_type": "code",
      "metadata": {
        "id": "yFOZ87zd70pK"
      },
      "source": [
        "def piramideDante(num):\n",
        "  i = 0\n",
        "  while (i <= num):\n",
        "    print(\"*\" * i)\n",
        "    i = i + 1\n",
        "\n",
        "#Il programma comincia qui\n",
        "print(\"Comincio\")\n",
        "\n",
        "piramideDante(10)"
      ],
      "execution_count": null,
      "outputs": []
    },
    {
      "cell_type": "markdown",
      "metadata": {
        "id": "_-7dt-Lh8ojC"
      },
      "source": [
        "# Classes / Objects\n",
        "Python is an object oriented programming language.\n",
        "\n",
        "Almost everything in Python is an object, with its properties and methods.\n",
        "\n",
        "A Class is like an object constructor, or a \"blueprint\" for creating objects.\n",
        "\n",
        "Una classe rappresenta un \"concetto\" entro un programma, ed ha le \"sue\" variabili e le \"sue\" funzioni (che in questo caso si chiamano \"metodi\").\n",
        "\n",
        "Nell'esempio che segue, la classe rappresenta il concetto di \"persona\". Potró creare molti oggetti della classe \"Person\", ciascuno rappresentante una persona diversa.\n",
        "\n",
        "All classes have a function called __init__(), which is always executed when the class is being initiated.\n",
        "\n",
        "Use the __init__() function to assign values to object properties, or other operations that are necessary to do when the object is being created\n",
        "\n",
        "https://www.w3schools.com/python/python_classes.asp"
      ]
    },
    {
      "cell_type": "code",
      "metadata": {
        "id": "gbQmh9lF82SQ",
        "outputId": "a779278d-47da-404d-e39b-b0cdce7e982b",
        "colab": {
          "base_uri": "https://localhost:8080/",
          "height": 52
        }
      },
      "source": [
        "class Person:\n",
        "  def __init__(self, name, age):\n",
        "    self.name = name\n",
        "    self.age = \n",
        "    \n",
        "#Il programma comincia qui\n",
        "p1 = Person(\"John\", 36)\n",
        "\n",
        "print(p1.name)\n",
        "print(p1.age)"
      ],
      "execution_count": 6,
      "outputs": [
        {
          "output_type": "stream",
          "text": [
            "John\n",
            "36\n"
          ],
          "name": "stdout"
        }
      ]
    },
    {
      "cell_type": "code",
      "metadata": {
        "id": "Aaftv_fD9nli"
      },
      "source": [
        "class Person:\n",
        "  def __init__(self, name, age):\n",
        "    self.name = name\n",
        "    self.age = age\n",
        "\n",
        "  def sayHello(self):\n",
        "    print(\"Hello my name is\", self.name, \"and I'm\", self.age)\n",
        "\n",
        "#Il programma comincia qui\n",
        "p1 = Person(\"John\", 36)\n",
        "p2 = Person(\"Marcus\", 48)\n",
        "p1.sayHello()\n",
        "p2.sayHello()"
      ],
      "execution_count": null,
      "outputs": []
    },
    {
      "cell_type": "markdown",
      "metadata": {
        "id": "1s2ETomr-XYF"
      },
      "source": [
        "# ES.1 - Metodo Maggiorenne\n",
        "Aggiungiamo un nuovo metodo alla classe persona, che valuta se quella persona é maggiorenne e ritorna un True/False"
      ]
    },
    {
      "cell_type": "code",
      "metadata": {
        "id": "KcPYNzpZ-2u5"
      },
      "source": [
        ""
      ],
      "execution_count": null,
      "outputs": []
    },
    {
      "cell_type": "markdown",
      "metadata": {
        "id": "lK2HaZkl-7cP"
      },
      "source": [
        "# ES.2 - Tempesta di Persone\n",
        "Creiamo una lista di persone, lunga quanto vuole l'utente.\n",
        "Per ogni persona, chiediamo nome ed etá, e la aggiungiamo ad una lista di persone. Dopo ogni persona, chiediamo all'utente se vuole continuare ad aggiungerne."
      ]
    },
    {
      "cell_type": "code",
      "metadata": {
        "id": "VBKfL-eR_QpD"
      },
      "source": [
        ""
      ],
      "execution_count": null,
      "outputs": []
    }
  ]
}