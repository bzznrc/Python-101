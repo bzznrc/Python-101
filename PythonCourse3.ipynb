{
  "nbformat": 4,
  "nbformat_minor": 0,
  "metadata": {
    "colab": {
      "name": "PythonCourse3.ipynb",
      "provenance": [],
      "authorship_tag": "ABX9TyOGUIdYaxFGYVFFO+pPqWj2",
      "include_colab_link": true
    },
    "kernelspec": {
      "name": "python3",
      "display_name": "Python 3"
    }
  },
  "cells": [
    {
      "cell_type": "markdown",
      "metadata": {
        "id": "view-in-github",
        "colab_type": "text"
      },
      "source": [
        "<a href=\"https://colab.research.google.com/github/bzznrc/PythonCourse/blob/master/PythonCourse3.ipynb\" target=\"_parent\"><img src=\"https://colab.research.google.com/assets/colab-badge.svg\" alt=\"Open In Colab\"/></a>"
      ]
    },
    {
      "cell_type": "markdown",
      "metadata": {
        "id": "kzfcasc_zyql"
      },
      "source": [
        "# 0 - Recap rapidino\n",
        "Cose a caso con le condizioni"
      ]
    },
    {
      "cell_type": "code",
      "metadata": {
        "id": "4MoI7NySzuNm"
      },
      "source": [
        "TizianoScore = 0\n",
        "\n",
        "S1 = input(\"\"\"E ti scorderai di me\n",
        "Quando piove i profili e le case ricordano te\n",
        "E sarà bellissimo\n",
        "Perché gioia e dolore han lo stesso sapore con te\n",
        "Io vorrei soltanto che la notte ora velocemente...\"\"\")\n",
        "if S1 == \"andasse\":\n",
        "  TizianoScore = TizianoScore + 1\n",
        "\n",
        "S2 = input(\"E tutto ciò che hai di me di colpo non...\")\n",
        "if S2 == \"tornasse\":\n",
        "  TizianoScore = TizianoScore + 1\n",
        "\n",
        "S3 = input(\"\"\"E voglio amore e tutte le attenzioni che sai dare\n",
        "E voglio indifferenza se mai mi vorrai...\"\"\")\n",
        "if S3 == \"ferire\":\n",
        "  TizianoScore = TizianoScore + 1\n",
        "\n",
        "if (TizianoScore == 3):\n",
        "  print(\"OH SI <3\")\n",
        "elif (TizianoScore <= 2 and TizianoScore != 0):\n",
        "  print(\"Tiziano non merita un fan come te </3\")\n",
        "else:\n",
        "  print(\"PERZONA FALZA!\")"
      ],
      "execution_count": null,
      "outputs": []
    },
    {
      "cell_type": "code",
      "metadata": {
        "id": "9M50_9UR1Ma6"
      },
      "source": [
        ""
      ],
      "execution_count": null,
      "outputs": []
    }
  ]
}