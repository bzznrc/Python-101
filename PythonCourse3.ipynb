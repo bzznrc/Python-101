{
  "nbformat": 4,
  "nbformat_minor": 0,
  "metadata": {
    "colab": {
      "name": "Copy of PythonCourse3.ipynb",
      "provenance": [],
      "authorship_tag": "ABX9TyMJdstAJUUjpsoQsRM8/LaO",
      "include_colab_link": true
    },
    "kernelspec": {
      "name": "python3",
      "display_name": "Python 3"
    }
  },
  "cells": [
    {
      "cell_type": "markdown",
      "metadata": {
        "id": "view-in-github",
        "colab_type": "text"
      },
      "source": [
        "<a href=\"https://colab.research.google.com/github/bzznrc/PythonCourse/blob/master/PythonCourse3.ipynb\" target=\"_parent\"><img src=\"https://colab.research.google.com/assets/colab-badge.svg\" alt=\"Open In Colab\"/></a>"
      ]
    },
    {
      "cell_type": "markdown",
      "metadata": {
        "id": "kzfcasc_zyql"
      },
      "source": [
        "# 0 - Recap rapidino\n",
        "Cose a caso con le condizioni"
      ]
    },
    {
      "cell_type": "code",
      "metadata": {
        "id": "4MoI7NySzuNm"
      },
      "source": [
        "TizianoScore = 0\n",
        "\n",
        "S1 = input(\"\"\"E ti scorderai di me\n",
        "Quando piove i profili e le case ricordano te\n",
        "E sarà bellissimo\n",
        "Perché gioia e dolore han lo stesso sapore con te\n",
        "Io vorrei soltanto che la notte ora velocemente...\\n\"\"\")\n",
        "if S1 == \"andasse\":\n",
        "  TizianoScore = TizianoScore + 1\n",
        "\n",
        "S2 = input(\"E tutto ciò che hai di me di colpo non...\\n\")\n",
        "if S2 == \"tornasse\":\n",
        "  TizianoScore = TizianoScore + 1\n",
        "\n",
        "S3 = input(\"\"\"E voglio amore e tutte le attenzioni che sai dare\n",
        "E voglio indifferenza se mai mi vorrai...\\n\"\"\")\n",
        "if S3 == \"ferire\":\n",
        "  TizianoScore = TizianoScore + 1\n",
        "\n",
        "if (TizianoScore == 3):\n",
        "  print(\"OH SI <3\")\n",
        "elif (TizianoScore <= 2 and TizianoScore != 0):\n",
        "  print(\"Tiziano non merita un fan come te </3\")\n",
        "else:\n",
        "  print(\"PERZONA FALZA!\")"
      ],
      "execution_count": null,
      "outputs": []
    },
    {
      "cell_type": "markdown",
      "metadata": {
        "id": "imxgewS7U4V8"
      },
      "source": [
        "# 1 - Cicli\n",
        "- Cerchiamo di capire la struttura del programma\n",
        "- Per farlo, concentriamoci sui blocchi logici, dati dalle indentature\n",
        "- Dichiarazione iniziale di variabili, con count che scandisce i cicli e win che viene portata a True solo in caso di vittoria\n",
        "- Blocco del while, che contiene un if, con una sua logica ed un else con una stampa, piú l'aggiornamento del contatore (count)\n",
        "- Singolo blocco if/else dopo il while per stampare il messaggio finale"
      ]
    },
    {
      "cell_type": "code",
      "metadata": {
        "id": "9M50_9UR1Ma6"
      },
      "source": [
        "import random\n",
        "\n",
        "n_min = 1\n",
        "n_max = 9\n",
        "count = 5\n",
        "win = False\n",
        "\n",
        "print(\"BWAHAHAHA Timer Bomba\")\n",
        "\n",
        "while (count > 0):\n",
        "\n",
        "  #Aggiornamento della variable contatore (andrá da 5 a 0)\n",
        "  count = count - 1\n",
        "\n",
        "  guess = int(input(\"Indovina il numero per disinnescare la bomba:\\n \"))\n",
        "  rand = random.randint(n_min, n_max)\n",
        "  \n",
        "  if (guess == rand):\n",
        "    print(\"Bomba disinnescata. PHEEEWWW!\")\n",
        "    win = True\n",
        "    #Con break usciamo dal ciclo anche se la condizione non é verificata\n",
        "    break;\n",
        "  else:\n",
        "    print(\"Nope! rand: \", rand, \"guess: \", guess, \" Count:\", count)\n",
        "\n",
        "#Qui siamo fuori dal blocco del while. Questo if/else viene eseguito alla fine del ciclo\n",
        "if (win == False):\n",
        "  print(\"BAM - you lose\")\n",
        "else:\n",
        "  print(\"EROEH\")\n",
        "\n"
      ],
      "execution_count": null,
      "outputs": []
    },
    {
      "cell_type": "markdown",
      "metadata": {
        "id": "7LONOrSL857q"
      },
      "source": [
        "# ES 1. - PIRAMIDE ASTERISCHICAHHH\n",
        "Scrivi una piramide (piú un triangolo rettangolo, ecco) di asterischi lunga a piacere (la dimensione va in una varianbile)\n",
        "Tipo:\n",
        "\n",
        "*\n",
        "\n",
        "**\n",
        "\n",
        "*** ...\n"
      ]
    },
    {
      "cell_type": "markdown",
      "metadata": {
        "id": "o5-nDW3N9cMT"
      },
      "source": [
        "# ES 2. - PIRAMIDE ASTERISCHICAHHH +\n",
        "Come prima ma sulle righe pari scrivi dei * e sulle righe dispari dei -\n",
        "\n",
        "(Hint: per sapere se un numero é pari o dispari si usa la funzione \"modulo di 2\". Si scrive a % 2 e risulta 1 se a é dispari e 0 se a é pari. Tipo:\n",
        "\n",
        "-\n",
        "\n",
        "**\n",
        "\n",
        "--- etc.\n",
        "\n"
      ]
    },
    {
      "cell_type": "markdown",
      "metadata": {
        "id": "2PtMtzYH-Jfu"
      },
      "source": [
        "# ES 3. - PIRAMIDE ASTERISCHICAHHH +++\n",
        "Scrivi la piramide dell'ES. 1 ma, arrivata alla fine riproducila speculare. Tipo:\n",
        "\n",
        "*\n",
        "\n",
        "**\n",
        "\n",
        "***\n",
        "\n",
        "**\n",
        "\n",
        "*\n"
      ]
    },
    {
      "cell_type": "code",
      "metadata": {
        "id": "7vCDuVx8-hdj"
      },
      "source": [
        ""
      ],
      "execution_count": null,
      "outputs": []
    },
    {
      "cell_type": "markdown",
      "metadata": {
        "id": "hKdsQOnRdj1k"
      },
      "source": [
        "# 2 - Cicli (piú comprensibile)\n",
        "Proviamo a contare tutti i numeri da uno ad un numero a scelta"
      ]
    },
    {
      "cell_type": "code",
      "metadata": {
        "id": "RhKXvMazfzyr"
      },
      "source": [
        "num = 1\n",
        "num_max = int(input(\"Dimmi il numero max:\"))\n",
        "\n",
        "while (num <= num_max):\n",
        "  print(num)\n",
        "  num = num + 1\n",
        "\n",
        "print(\"Sono arrivato a \", num_max)"
      ],
      "execution_count": null,
      "outputs": []
    },
    {
      "cell_type": "markdown",
      "metadata": {
        "id": "fXZ3FvQOVbqk"
      },
      "source": [
        "# ES. 4\n",
        "Chiedi all'utente il suo nome finché il suo nome non risulta essere \"Gianfranco\". Solo a questo punto, congratulati.\n",
        "\n"
      ]
    },
    {
      "cell_type": "code",
      "metadata": {
        "id": "vxa4UtLBV-az"
      },
      "source": [
        ""
      ],
      "execution_count": null,
      "outputs": []
    },
    {
      "cell_type": "markdown",
      "metadata": {
        "id": "xRcFDHypVwOJ"
      },
      "source": [
        "# ES. 5\n",
        "Diamo i numeri.\n",
        "\n",
        "Chiedi all'utente quanti numeri random vuole, il massimo ed il minimo. Dagli tutti quei numeri."
      ]
    },
    {
      "cell_type": "code",
      "metadata": {
        "id": "6oGkCVjnV-vh"
      },
      "source": [
        ""
      ],
      "execution_count": null,
      "outputs": []
    }
  ]
}