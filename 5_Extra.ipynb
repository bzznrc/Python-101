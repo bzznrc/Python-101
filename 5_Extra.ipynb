{
 "cells": [
  {
   "cell_type": "markdown",
   "id": "c545bb91",
   "metadata": {},
   "source": [
    "# Functions and Classes 🛠️\n",
    "\n",
    "Throughout this course, we've been building a solid foundation in programming using Python. Now, let's explore two fundamental concepts that will empower you to create more complex and organized programs: **Functions** and **Classes**.\n",
    "\n",
    "These are the building blocks that allow you to structure your code effectively, making it reusable, modular, and easier to understand."
   ]
  },
  {
   "cell_type": "markdown",
   "id": "7922806d",
   "metadata": {},
   "source": [
    "## Functions 🤖\n",
    "\n",
    "A **function** is a block of organized, reusable code that performs a single, related action. Functions help break our program into smaller and modular chunks, making it more manageable and reusable.\n",
    "\n",
    "Think of functions as little machines: you give them input (parameters), they do some processing, and then they give you output (return value)."
   ]
  },
  {
   "cell_type": "code",
   "execution_count": null,
   "id": "61b663ed",
   "metadata": {
    "lines_to_next_cell": 1
   },
   "outputs": [],
   "source": [
    "# Example of a simple function without parameters\n",
    "def greet():\n",
    "    print(\"Hello! Welcome to the world of Python.\")\n",
    "\n",
    "# Calling the function\n",
    "greet()"
   ]
  },
  {
   "cell_type": "code",
   "execution_count": null,
   "id": "5c3e050c",
   "metadata": {
    "lines_to_next_cell": 1
   },
   "outputs": [],
   "source": [
    "# Example of a function with parameters\n",
    "def greet_person(name):\n",
    "    print(f\"Hello, {name}! How are you today?\")\n",
    "\n",
    "# Calling the function with an argument\n",
    "greet_person(\"Alice\")"
   ]
  },
  {
   "cell_type": "code",
   "execution_count": null,
   "id": "da4ff26b",
   "metadata": {
    "lines_to_next_cell": 1
   },
   "outputs": [],
   "source": [
    "# Example of a function with a return value\n",
    "def add_numbers(a, b):\n",
    "    result = a + b\n",
    "    return result\n",
    "\n",
    "# Using the function and printing the result\n",
    "sum_result = add_numbers(5, 7)\n",
    "print(\"The sum is:\", sum_result)"
   ]
  },
  {
   "cell_type": "markdown",
   "id": "7bae1c04",
   "metadata": {},
   "source": [
    "### Why Use Functions?\n",
    "\n",
    "- **Reusability**: Write once, use many times.\n",
    "- **Modularity**: Break complex problems into simpler pieces.\n",
    "- **Readability**: Makes code easier to read and maintain.\n",
    "- **Avoid Repetition**: Reduces redundancy in your code."
   ]
  },
  {
   "cell_type": "markdown",
   "id": "af4ced6d",
   "metadata": {},
   "source": [
    "## Parameters and Arguments 🔡\n",
    "\n",
    "- **Parameters** are variables listed in the function's definition.\n",
    "- **Arguments** are the actual values passed to the function when you call it.\n",
    "\n",
    "For example, in `def greet_person(name):`, `name` is a parameter. When we call `greet_person(\"Alice\")`, `\"Alice\"` is the argument."
   ]
  },
  {
   "cell_type": "markdown",
   "id": "c7ea7157",
   "metadata": {},
   "source": [
    "## Return Values 📦\n",
    "\n",
    "A function can send back a value using the `return` statement. This allows you to capture the output and use it elsewhere in your code."
   ]
  },
  {
   "cell_type": "code",
   "execution_count": null,
   "id": "c3e29441",
   "metadata": {},
   "outputs": [],
   "source": [
    "# Function that checks if a number is even\n",
    "def is_even(number):\n",
    "    if number % 2 == 0:\n",
    "        return True\n",
    "    else:\n",
    "        return False\n",
    "\n",
    "# Using the function\n",
    "number_to_check = 4\n",
    "if is_even(number_to_check):\n",
    "    print(f\"{number_to_check} is even.\")\n",
    "else:\n",
    "    print(f\"{number_to_check} is odd.\")"
   ]
  },
  {
   "cell_type": "markdown",
   "id": "507d5a10",
   "metadata": {},
   "source": [
    "## Scope 🧐\n",
    "\n",
    "**Scope** refers to the visibility of variables. Variables created inside a function are **local** to that function and cannot be accessed outside of it. Variables created outside of functions are **global** and can be accessed anywhere in the code."
   ]
  },
  {
   "cell_type": "code",
   "execution_count": null,
   "id": "725a8255",
   "metadata": {},
   "outputs": [],
   "source": [
    "# Global variable\n",
    "x = 10\n",
    "\n",
    "def multiply_by_two():\n",
    "    # Local variable\n",
    "    y = x * 2\n",
    "    print(\"Y inside function:\", y)\n",
    "\n",
    "multiply_by_two()\n",
    "# print(y)  # This would cause an error because y is not defined outside the function"
   ]
  },
  {
   "cell_type": "markdown",
   "id": "42c0560f",
   "metadata": {},
   "source": [
    "## Classes and Objects 🧱\n",
    "\n",
    "Python is an **object-oriented programming (OOP)** language. This means it allows us to create objects that model real-world things.\n",
    "\n",
    "- A **class** is like a blueprint for creating objects. It defines a set of attributes and methods that the objects created from the class can have.\n",
    "- An **object** is an instance of a class. It's a specific realization of the class with actual values.\n",
    "\n",
    "### Why Use Classes?\n",
    "\n",
    "- **Organization**: Helps to organize code into logical and manageable structures.\n",
    "- **Reusability**: Once a class is defined, multiple objects can be created from it.\n",
    "- **Abstraction**: Can model complex systems more naturally."
   ]
  },
  {
   "cell_type": "code",
   "execution_count": null,
   "id": "f3cbf76d",
   "metadata": {
    "lines_to_next_cell": 1
   },
   "outputs": [],
   "source": [
    "# Defining a class\n",
    "class Person:\n",
    "    # The __init__ method initializes the object's attributes\n",
    "    def __init__(self, name, age):\n",
    "        self.name = name  # Attribute\n",
    "        self.age = age    # Attribute\n",
    "    \n",
    "    # Method to greet\n",
    "    def greet(self):\n",
    "        print(f\"Hello, my name is {self.name} and I'm {self.age} years old.\")\n",
    "\n",
    "# Creating objects (instances of the class)\n",
    "person1 = Person(\"Alice\", 30)\n",
    "person2 = Person(\"Bob\", 25)\n",
    "\n",
    "# Using methods\n",
    "person1.greet()\n",
    "person2.greet()"
   ]
  },
  {
   "cell_type": "markdown",
   "id": "6db86e7f",
   "metadata": {},
   "source": [
    "### Adding Methods to Classes\n",
    "\n",
    "Methods are functions that belong to an object. They can perform actions using the object's attributes."
   ]
  },
  {
   "cell_type": "code",
   "execution_count": null,
   "id": "656ef93e",
   "metadata": {
    "lines_to_next_cell": 1
   },
   "outputs": [],
   "source": [
    "class Person:\n",
    "    def __init__(self, name, age):\n",
    "        self.name = name\n",
    "        self.age = age\n",
    "        \n",
    "    def greet(self):\n",
    "        print(f\"Hi, I'm {self.name}.\")\n",
    "        \n",
    "    def is_adult(self):\n",
    "        if self.age >= 18:\n",
    "            print(f\"{self.name} is an adult.\")\n",
    "            return True\n",
    "        else:\n",
    "            print(f\"{self.name} is not an adult.\")\n",
    "            return False\n",
    "\n",
    "# Create an instance\n",
    "person = Person(\"Charlie\", 17)\n",
    "person.greet()\n",
    "\n",
    "# Check if the person is an adult\n",
    "person.is_adult()"
   ]
  },
  {
   "cell_type": "markdown",
   "id": "a0cc092e",
   "metadata": {},
   "source": [
    "## Exercises 📝\n",
    "\n",
    "### Exercise 1: Age Checker 👶👴\n",
    "\n",
    "- Write a function `check_age` that takes a name and age as parameters.\n",
    "- The function should print a message stating whether the person is a minor or an adult."
   ]
  },
  {
   "cell_type": "code",
   "execution_count": null,
   "id": "ee3d03dc",
   "metadata": {
    "lines_to_next_cell": 1
   },
   "outputs": [],
   "source": [
    "def check_age(name, age):\n",
    "    if age >= 18:\n",
    "        print(f\"{name} is an adult.\")\n",
    "    else:\n",
    "        print(f\"{name} is a minor.\")\n",
    "\n",
    "# Test the function\n",
    "check_age(\"Diana\", 20)\n",
    "check_age(\"Ethan\", 15)"
   ]
  },
  {
   "cell_type": "markdown",
   "id": "fcce2d08",
   "metadata": {},
   "source": [
    "### Exercise 2: Person Class Extension 🧑‍💼\n",
    "\n",
    "- Add a method `years_to_retirement` to the `Person` class.\n",
    "- Assume retirement age is 65.\n",
    "- The method should calculate and print how many years the person has until retirement."
   ]
  },
  {
   "cell_type": "code",
   "execution_count": null,
   "id": "873dfc30",
   "metadata": {
    "lines_to_next_cell": 1
   },
   "outputs": [],
   "source": [
    "class Person:\n",
    "    def __init__(self, name, age):\n",
    "        self.name = name\n",
    "        self.age = age\n",
    "        \n",
    "    def greet(self):\n",
    "        print(f\"Hi, I'm {self.name}.\")\n",
    "        \n",
    "    def is_adult(self):\n",
    "        return self.age >= 18\n",
    "    \n",
    "    def years_to_retirement(self):\n",
    "        retirement_age = 65\n",
    "        years_left = retirement_age - self.age\n",
    "        if years_left > 0:\n",
    "            print(f\"{self.name} has {years_left} years until retirement.\")\n",
    "        else:\n",
    "            print(f\"{self.name} is already retired.\")\n",
    "\n",
    "# Create instances and test the new method\n",
    "person1 = Person(\"Emma\", 30)\n",
    "person2 = Person(\"Frank\", 70)\n",
    "\n",
    "person1.years_to_retirement()\n",
    "person2.years_to_retirement()"
   ]
  },
  {
   "cell_type": "markdown",
   "id": "befcb6d7",
   "metadata": {},
   "source": [
    "### Exercise 3: Contact List 📇\n",
    "\n",
    "- Create an empty list called `contacts`.\n",
    "- Ask the user if they want to add a new contact.\n",
    "- If they do, ask for the contact's name and phone number, and create a `Person` object with an additional attribute `phone_number`.\n",
    "- Add the new contact to the `contacts` list.\n",
    "- Repeat until the user doesn't want to add more contacts.\n",
    "- At the end, print out all contacts with their details."
   ]
  },
  {
   "cell_type": "code",
   "execution_count": null,
   "id": "a153d8da",
   "metadata": {},
   "outputs": [],
   "source": [
    "class Person:\n",
    "    def __init__(self, name, age, phone_number):\n",
    "        self.name = name\n",
    "        self.age = age\n",
    "        self.phone_number = phone_number\n",
    "        \n",
    "    def display_contact(self):\n",
    "        print(f\"Name: {self.name}, Age: {self.age}, Phone: {self.phone_number}\")\n",
    "\n",
    "# Create an empty list for contacts\n",
    "contacts = []\n",
    "\n",
    "# Loop to add contacts\n",
    "while True:\n",
    "    add_contact = input(\"Do you want to add a new contact? (yes/no): \").lower()\n",
    "    if add_contact == 'yes':\n",
    "        name = input(\"Enter contact's name: \")\n",
    "        age = int(input(\"Enter contact's age: \"))\n",
    "        phone_number = input(\"Enter contact's phone number: \")\n",
    "        contact = Person(name, age, phone_number)\n",
    "        contacts.append(contact)\n",
    "    else:\n",
    "        break\n",
    "\n",
    "# Display all contacts\n",
    "print(\"\\nContact List:\")\n",
    "for contact in contacts:\n",
    "    contact.display_contact()"
   ]
  },
  {
   "cell_type": "markdown",
   "id": "75babb14",
   "metadata": {},
   "source": [
    "## The Bigger Picture 🌍\n",
    "\n",
    "Congratulations on making it this far! You've learned about:\n",
    "\n",
    "- **Variables** and **Data Types**\n",
    "- **Operators**\n",
    "- **Control Flow** with `if`, `elif`, `else`\n",
    "- **Loops**: `for` and `while`\n",
    "- **Lists** and **Dictionaries**\n",
    "- **Functions**\n",
    "- **Classes and Objects**\n",
    "\n",
    "These concepts are the fundamental building blocks of programming. With them, you can create a vast array of programs, from simple scripts to complex applications."
   ]
  },
  {
   "cell_type": "markdown",
   "id": "85a2fb84",
   "metadata": {},
   "source": [
    "## Where to Go from Here? 🚀\n",
    "\n",
    "The world of programming is vast and exciting. Here's how you can apply what you've learned and explore different areas:\n",
    "\n",
    "### 1. Game Development 🎮\n",
    "\n",
    "- **Pygame**: A popular library for making games in Python.\n",
    "- Start with simple games like Snake or Tetris.\n",
    "- Learn about graphics, animations, and user input.\n",
    "\n",
    "### 2. Web Development 🌐\n",
    "\n",
    "- **Backend Development**: Use frameworks like Flask or Django to build web applications.\n",
    "- **Frontend Development**: Learn HTML, CSS, and JavaScript to create interactive user interfaces.\n",
    "\n",
    "### 3. Data Science and Machine Learning 📊🤖\n",
    "\n",
    "- **Data Analysis**: Use libraries like Pandas and NumPy to manipulate and analyze data.\n",
    "- **Visualization**: Matplotlib and Seaborn for creating graphs and charts.\n",
    "- **Machine Learning**: Scikit-learn for algorithms, TensorFlow or PyTorch for deep learning.\n",
    "\n",
    "### 4. Desktop Applications 🖥️\n",
    "\n",
    "- **GUI Development**: Create desktop applications using Tkinter or PyQt.\n",
    "- Build tools with graphical interfaces.\n",
    "\n",
    "### 5. Automation and Scripting 🤖\n",
    "\n",
    "- Automate repetitive tasks.\n",
    "- Write scripts for file management, web scraping, and more.\n",
    "\n",
    "### 6. Mobile Development 📱\n",
    "\n",
    "- **Kivy**: A framework for building cross-platform mobile apps in Python.\n",
    "\n",
    "## Tips for Learning More 📚\n",
    "\n",
    "- **Build Projects**: The best way to learn is by doing. Start small and gradually increase complexity.\n",
    "- **Join Communities**: Participate in forums like Stack Overflow or Reddit's r/learnpython.\n",
    "- **Online Courses**: Platforms like Coursera, edX, and Udemy offer courses on various topics.\n",
    "- **Read Documentation**: Familiarize yourself with official documentation and tutorials.\n",
    "- **Stay Curious**: Technology evolves rapidly. Keep learning and exploring new concepts.\n",
    "\n",
    "## Final Thoughts 🎉\n",
    "\n",
    "Programming is a journey of creativity and problem-solving. The skills you've acquired are just the beginning. Whether you're interested in developing the next hit game, analyzing complex data, or automating tasks, Python provides the tools you need.\n",
    "\n",
    "Remember, every expert was once a beginner. Keep experimenting, stay persistent, and most importantly, have fun!\n",
    "\n",
    "Happy coding! 👩‍💻👨‍💻"
   ]
  }
 ],
 "metadata": {
  "jupytext": {
   "cell_metadata_filter": "-all",
   "main_language": "python",
   "notebook_metadata_filter": "-all"
  }
 },
 "nbformat": 4,
 "nbformat_minor": 5
}
