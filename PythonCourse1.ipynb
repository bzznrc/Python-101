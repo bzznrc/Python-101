{
  "nbformat": 4,
  "nbformat_minor": 0,
  "metadata": {
    "colab": {
      "name": "PythonCourse.ipynb",
      "provenance": [],
      "include_colab_link": true
    },
    "kernelspec": {
      "name": "python3",
      "display_name": "Python 3"
    }
  },
  "cells": [
    {
      "cell_type": "markdown",
      "metadata": {
        "id": "view-in-github",
        "colab_type": "text"
      },
      "source": [
        "<a href=\"https://colab.research.google.com/github/bzznrc/PythonCourse/blob/master/PythonCourse1.ipynb\" target=\"_parent\"><img src=\"https://colab.research.google.com/assets/colab-badge.svg\" alt=\"Open In Colab\"/></a>"
      ]
    },
    {
      "cell_type": "markdown",
      "metadata": {
        "id": "UCbDWCdhUfMs"
      },
      "source": [
        "# Algorithm\n",
        "An algorithm is an unambiguous step-by-step procedure that takes an input instance (of the given problem) as input(s) and produces output for the problem instance.\n",
        "> L’implementazione di un algoritmo in un linguaggio di programmazione é quello che chiamiamo programma\n",
        "\n",
        "\n"
      ]
    },
    {
      "cell_type": "markdown",
      "metadata": {
        "id": "7fvqekSlUzBF"
      },
      "source": [
        "# TODO ALGORITMO DOCCIA"
      ]
    },
    {
      "cell_type": "markdown",
      "metadata": {
        "id": "Rl7PoYL_VA1r"
      },
      "source": [
        "# Program\n",
        "Programming a computer to solve a problem always requires defining data to represent the things in your problem; this is called modeling. It also requires explaining **unambiguously** what process to follow in order to solve the problem.\n",
        "\n",
        "> In Imperative programming (ours and the most well-known), we tell the computer what to do to the data. The computer starts out with its memory containing stuff, we tell it how to change that stuff, and it makes those changes.\n",
        "\n",
        "\n"
      ]
    },
    {
      "cell_type": "code",
      "metadata": {
        "id": "Z1roDEe7VbAd"
      },
      "source": [
        "### 1 - INPUT - Asking for data\n",
        "lire = input(\"Inserisci LIRE: \")  \n",
        "\n",
        "### 2 - LOGIC (is usually quite longer)\n",
        "eur = float(lire) /1936.27\n",
        "\n",
        "### 3 - OUTPUT - Communicating the result\n",
        "print(\"EUR:\", eur)"
      ],
      "execution_count": null,
      "outputs": []
    },
    {
      "cell_type": "markdown",
      "metadata": {
        "id": "8NQSbaElWawL"
      },
      "source": [
        ""
      ]
    },
    {
      "cell_type": "markdown",
      "metadata": {
        "id": "e-qBolASfPZE"
      },
      "source": [
        "# 1 - Print\n",
        "Scrive una stringa di testo (cioé il testo rosso delimitato dagli apici) in output\n"
      ]
    },
    {
      "cell_type": "code",
      "metadata": {
        "id": "njaqvXaVe55n"
      },
      "source": [
        "print('posso scrivere quello che voglio')"
      ],
      "execution_count": null,
      "outputs": []
    },
    {
      "cell_type": "markdown",
      "metadata": {
        "id": "cduNA4NSjcn3"
      },
      "source": [
        "# 2 - Variabili e Operazioni\n",
        "-Le variabili sono contenitori. Posso \"mettere dentro\" (cioé \"assegnare\") ad una variabile sia un valore numerico che una stringa, che deve sempre essere indicata con gli apici.\n",
        "\n",
        "-Ad una variabile che contiene un valore (a = 2) posso assegnare un altro valore, anche di tipo diverso (a = 'sushi'). Da quel punto in poi il valore di a sará 'sushi'.\n",
        "\n",
        "-Posso assegnare ad una variabile il risultato di un'operazione matematica (tra costanti o che include ESSA STESSA variabili)"
      ]
    },
    {
      "cell_type": "code",
      "metadata": {
        "id": "sKn6lvigfGYt"
      },
      "source": [
        "a = 2\n",
        "print('a: ', a)\n",
        "b = 5\n",
        "print('b: ', b)"
      ],
      "execution_count": null,
      "outputs": []
    },
    {
      "cell_type": "code",
      "metadata": {
        "id": "OtD7-SBnzJWX"
      },
      "source": [
        "c = a + b\n",
        "print('c: ', c)"
      ],
      "execution_count": null,
      "outputs": []
    },
    {
      "cell_type": "code",
      "metadata": {
        "id": "5f8Ix6iry1Ag"
      },
      "source": [
        "a = a*2\n",
        "print('a (moltiplicato):  ', a)"
      ],
      "execution_count": null,
      "outputs": []
    },
    {
      "cell_type": "code",
      "metadata": {
        "id": "1Qay0tLNy1NC"
      },
      "source": [
        "a = 'sushi'\n",
        "print('a (stringa): ', a)"
      ],
      "execution_count": null,
      "outputs": []
    },
    {
      "cell_type": "code",
      "metadata": {
        "id": "IHbuwwdIy1VM"
      },
      "source": [
        "a = a*2\n",
        "print('a (stringa moltiplicata):  ', a)\n",
        "b = 'tempura'\n",
        "print('b (stringa): ', b)"
      ],
      "execution_count": null,
      "outputs": []
    },
    {
      "cell_type": "code",
      "metadata": {
        "id": "ZGYub8EuzRCl"
      },
      "source": [
        "c = a + b * 4\n",
        "print('c (stringa moltiplicata):  ', c)"
      ],
      "execution_count": null,
      "outputs": []
    },
    {
      "cell_type": "markdown",
      "metadata": {
        "id": "qgDVX0c1Z6Pi"
      },
      "source": [
        "# 3 - Inputs\n",
        "La funzione input ferma l'esecuzione del programma e aspetta che l'utente inserisca un valore. Questo valore é poi assegnabile ad una variabile (in questo caso, viene assegnato alla variabile \"nome\")"
      ]
    },
    {
      "cell_type": "code",
      "metadata": {
        "id": "i6yvHQAiaFkZ"
      },
      "source": [
        "nome = \"boh\"\n",
        "print(\"Il nome \", nome, \"fa un po' cagare\")"
      ],
      "execution_count": null,
      "outputs": []
    },
    {
      "cell_type": "code",
      "metadata": {
        "id": "nKpcWkxDzXrB"
      },
      "source": [
        "nome = input(\"Mi dici un nome bello?\")\n",
        "print(\"Il nome \", nome, \"é molto piú bello!\")"
      ],
      "execution_count": null,
      "outputs": []
    },
    {
      "cell_type": "markdown",
      "metadata": {
        "id": "4mHzvIb2jIhM"
      },
      "source": [
        "# 4 - Euroconvertitore\n",
        "In questo esempio la funzione float() serve a dire a Python che il valore che l'utente ha inserito é da considerarsi come un numero con la virgola (altrimenti sarebbe stato ambiguo: sarebbe potuto essere stata interpretata come una stringa di testo)"
      ]
    },
    {
      "cell_type": "code",
      "metadata": {
        "id": "gyaYguq7h2-n"
      },
      "source": [
        "lire = input(\"Inserisci LIRE: \")\n",
        "eur = float(lire) /1936.27\n",
        "print(\"EUR:\", eur)"
      ],
      "execution_count": null,
      "outputs": []
    },
    {
      "cell_type": "markdown",
      "metadata": {
        "id": "wACZ9jDp0SL6"
      },
      "source": [
        "# ES. 1 - EASY\n",
        "Crea una variabile (chiamala come vuoi) e assegnale la stringa \"Bazza é un genio\", poi scrivila in output\n"
      ]
    },
    {
      "cell_type": "code",
      "metadata": {
        "id": "bgff_2TC0VYe"
      },
      "source": [
        ""
      ],
      "execution_count": null,
      "outputs": []
    },
    {
      "cell_type": "markdown",
      "metadata": {
        "id": "rBIV3lAp0nyx"
      },
      "source": [
        "# ES. 2 - MEDIUM\n",
        "Scrivi in output la stringa precedente 100 volte, in modo astuto se possibile (spoiler: é possibile)"
      ]
    },
    {
      "cell_type": "code",
      "metadata": {
        "id": "nugHY67G1YvB"
      },
      "source": [
        ""
      ],
      "execution_count": null,
      "outputs": []
    },
    {
      "cell_type": "markdown",
      "metadata": {
        "id": "c5jQYyna1l0W"
      },
      "source": [
        "# ES. 3 - LEEEEROOOOOYYYYYY JEEEEEENKINS\n",
        "-Chiedi all'utente di scrivere una stringa e salvala in una variabile\n",
        "\n",
        "-Chiedi all'utente di scrivere un numero e salvalo in una variabile\n",
        "\n",
        "-Stampa in output la stringa scelta tante volte quanto specificato dal numero"
      ]
    },
    {
      "cell_type": "code",
      "metadata": {
        "id": "8RrKrPld1rzO"
      },
      "source": [
        ""
      ],
      "execution_count": null,
      "outputs": []
    }
  ]
}